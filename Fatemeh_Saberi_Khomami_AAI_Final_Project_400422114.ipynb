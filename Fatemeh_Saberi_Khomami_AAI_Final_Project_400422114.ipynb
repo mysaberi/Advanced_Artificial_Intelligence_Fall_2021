{
 "cells": [
  {
   "cell_type": "markdown",
   "id": "latin-contemporary",
   "metadata": {},
   "source": [
    "# Fatemeh Saberi Khomami \n",
    "\n",
    "</br>\n",
    "\n",
    "# Student Number: 400422114\n",
    "\n",
    "</br>\n",
    "\n",
    "# Advanced Artificial Intelligence Project"
   ]
  },
  {
   "cell_type": "markdown",
   "id": "completed-bride",
   "metadata": {},
   "source": [
    "___________"
   ]
  },
  {
   "cell_type": "markdown",
   "id": "median-turner",
   "metadata": {},
   "source": [
    "### Import required libraries"
   ]
  },
  {
   "cell_type": "code",
   "execution_count": 2,
   "id": "likely-filing",
   "metadata": {},
   "outputs": [
    {
     "name": "stdout",
     "output_type": "stream",
     "text": [
      "pygame 2.1.2 (SDL 2.0.18, Python 3.9.1)\n",
      "Hello from the pygame community. https://www.pygame.org/contribute.html\n"
     ]
    }
   ],
   "source": [
    "import numpy as np\n",
    "import random\n",
    "import matplotlib.pyplot as plt\n",
    "import matplotlib as mpl\n",
    "import pygame\n",
    "import sys"
   ]
  },
  {
   "cell_type": "markdown",
   "id": "least-title",
   "metadata": {},
   "source": [
    "### Creating the grid Environment with its properties"
   ]
  },
  {
   "cell_type": "code",
   "execution_count": 13,
   "id": "naughty-thunder",
   "metadata": {},
   "outputs": [],
   "source": [
    "class gridenv:\n",
    "    def __init__(self):\n",
    "        #initialize env properties\n",
    "        self.width=20\n",
    "        self.length=20\n",
    "        #set locations for foods\n",
    "        random.seed(41)\n",
    "        row=random.sample([i for i in range(20)], 12)\n",
    "        random.seed(23)\n",
    "        col=random.sample([i for i in range(20)], 12)\n",
    "        lst=list(zip(row,col))\n",
    "        self.foods_location=lst[0:8]\n",
    "        #set locations for agents\n",
    "        self.agent1_current_location=lst[8]\n",
    "        self.agent2_current_location=lst[9]\n",
    "        self.agent3_current_location=lst[10]\n",
    "        self.agent4_current_location=lst[11]\n",
    "        self.agent1_current_cumulative_reward=0\n",
    "        self.agent2_current_cumulative_reward=0\n",
    "        self.agent3_current_cumulative_reward=0\n",
    "        self.agent4_current_cumulative_reward=0\n",
    "        #set of possible actions\n",
    "        self.actions=['move_up','move_down','move_left','move_right','attack_up','attack_down','attack_left','attack_right']\n",
    "    ####################################################################################################################\n",
    "   #a method to track locations of agents and foods on map\n",
    "    def on_map_vis(self,step=0,episode=0,param=0):\n",
    "        b=np.zeros((20,20))\n",
    "        for i in self.foods_location:\n",
    "            b[i]=100\n",
    "        for i in [self.agent1_current_location,self.agent2_current_location,self.agent3_current_location,self.agent4_current_location]:\n",
    "            b[i]=-100\n",
    "        plt.ioff()\n",
    "        fig = plt.figure(figsize=(4, 4))\n",
    "        ax = fig.add_subplot(111)\n",
    "        ax.set_title(f'Environment at episode {episode}, step {step}')\n",
    "        plt.axis('off')\n",
    "        plt.imshow(b,cmap=mpl.colors.ListedColormap(['red','#fffdc7','green']))\n",
    "        plt.savefig(f'img/run{param}-ep{episode}-step{step}.png')\n",
    "        plt.close(fig)\n",
    "\n",
    "    \n",
    "    ####################################################################################################################\n",
    "    def plotenv(self,step=0):\n",
    "        b=np.zeros((20,20))\n",
    "        for i in self.foods_location:\n",
    "            b[i]=100\n",
    "        for i in [self.agent1_current_location,self.agent2_current_location,self.agent3_current_location,self.agent4_current_location]:\n",
    "            b[i]=-100\n",
    "        fig = plt.figure(figsize=(4, 4))\n",
    "        ax = fig.add_subplot(111)\n",
    "        ax.set_title(f'Environment at step {step}')\n",
    "        plt.imshow(b,cmap=mpl.colors.ListedColormap(['red','#fffdc7','green']))\n",
    "        plt.axis('off')\n",
    "        plt.show()\n",
    "    ####################################################################################################################\n",
    "    \n",
    "    def take_step(self,action,agt):\n",
    "        \n",
    "        if agt==1:\n",
    "            if action == 'move_up':\n",
    "                curr_loc=(self.agent1_current_location[0]-1,self.agent1_current_location[1])\n",
    "                \n",
    "                if curr_loc in self.foods_location:\n",
    "                    self.agent1_current_cumulative_reward+=1\n",
    "                    \n",
    "                elif curr_loc in [self.agent2_current_location,self.agent3_current_location,self.agent4_current_location]:\n",
    "                    pass\n",
    "                \n",
    "                elif curr_loc[0] not in list(range(20)):\n",
    "                    pass\n",
    "                \n",
    "                else:\n",
    "                    self.agent1_current_location=curr_loc\n",
    "                    \n",
    "            \n",
    "            elif action == 'attack_up':\n",
    "                curr_loc=(self.agent1_current_location[0]-1,self.agent1_current_location[1])\n",
    "                \n",
    "                if curr_loc in self.foods_location:\n",
    "                    pass\n",
    "                \n",
    "                elif curr_loc in [self.agent2_current_location,self.agent3_current_location,self.agent4_current_location]:\n",
    "                    self.agent1_current_cumulative_reward+=2\n",
    "                    idx=[self.agent2_current_location,self.agent3_current_location,self.agent4_current_location].index(curr_loc)\n",
    "                    if idx==0:\n",
    "                        self.agent2_current_cumulative_reward-=4\n",
    "                    elif idx==1:\n",
    "                        self.agent3_current_cumulative_reward-=4\n",
    "                    else:\n",
    "                        self.agent4_current_cumulative_reward-=4\n",
    "                        \n",
    "                elif curr_loc[0] not in list(range(20)):\n",
    "                    pass\n",
    "                \n",
    "                else:\n",
    "                    self.agent1_current_cumulative_reward-=0.1\n",
    "            \n",
    "            elif action == 'move_down':\n",
    "                curr_loc=(self.agent1_current_location[0]+1,self.agent1_current_location[1])\n",
    "                \n",
    "                if curr_loc in self.foods_location:\n",
    "                    self.agent1_current_cumulative_reward+=1\n",
    "                    \n",
    "                elif curr_loc in [self.agent2_current_location,self.agent3_current_location,self.agent4_current_location]:\n",
    "                    pass\n",
    "                \n",
    "                elif curr_loc[0] not in list(range(20)):\n",
    "                    pass\n",
    "                \n",
    "                else:\n",
    "                    self.agent1_current_location=curr_loc\n",
    "            \n",
    "            elif action == 'attack_down':\n",
    "                curr_loc=(self.agent1_current_location[0]+1,self.agent1_current_location[1])\n",
    "                \n",
    "                if curr_loc in self.foods_location:\n",
    "                    pass\n",
    "                \n",
    "                elif curr_loc in [self.agent2_current_location,self.agent3_current_location,self.agent4_current_location]:\n",
    "                    self.agent1_current_cumulative_reward+=2\n",
    "                    idx=[self.agent2_current_location,self.agent3_current_location,self.agent4_current_location].index(curr_loc)\n",
    "                    if idx==0:\n",
    "                        self.agent2_current_cumulative_reward-=4\n",
    "                    elif idx==1:\n",
    "                        self.agent3_current_cumulative_reward-=4\n",
    "                    else:\n",
    "                        self.agent4_current_cumulative_reward-=4\n",
    "                        \n",
    "                elif curr_loc[0] not in list(range(20)):\n",
    "                    pass\n",
    "                \n",
    "                else:\n",
    "                    self.agent1_current_cumulative_reward-=0.1\n",
    "                    \n",
    "            elif action == 'move_left':\n",
    "                curr_loc=(self.agent1_current_location[0],self.agent1_current_location[1]-1)\n",
    "                \n",
    "                if curr_loc in self.foods_location:\n",
    "                    self.agent1_current_cumulative_reward+=1\n",
    "                    \n",
    "                elif curr_loc in [self.agent2_current_location,self.agent3_current_location,self.agent4_current_location]:\n",
    "                    pass\n",
    "                \n",
    "                elif curr_loc[1] not in list(range(20)):\n",
    "                    pass\n",
    "                \n",
    "                else:\n",
    "                    self.agent1_current_location=curr_loc\n",
    "            \n",
    "            elif action == 'attack_left':\n",
    "                curr_loc=(self.agent1_current_location[0],self.agent1_current_location[1]-1)\n",
    "                \n",
    "                if curr_loc in self.foods_location:\n",
    "                    pass\n",
    "                \n",
    "                elif curr_loc in [self.agent2_current_location,self.agent3_current_location,self.agent4_current_location]:\n",
    "                    self.agent1_current_cumulative_reward+=2\n",
    "                    idx=[self.agent2_current_location,self.agent3_current_location,self.agent4_current_location].index(curr_loc)\n",
    "                    if idx==0:\n",
    "                        self.agent2_current_cumulative_reward-=4\n",
    "                    elif idx==1:\n",
    "                        self.agent3_current_cumulative_reward-=4\n",
    "                    else:\n",
    "                        self.agent4_current_cumulative_reward-=4\n",
    "                        \n",
    "                elif curr_loc[1] not in list(range(20)):\n",
    "                    pass\n",
    "                \n",
    "                else:\n",
    "                    self.agent1_current_cumulative_reward-=0.1\n",
    "                    \n",
    "            \n",
    "            elif action == 'move_right':\n",
    "                curr_loc=(self.agent1_current_location[0],self.agent1_current_location[1]+1)\n",
    "                \n",
    "                if curr_loc in self.foods_location:\n",
    "                    self.agent1_current_cumulative_reward+=1\n",
    "                    \n",
    "                elif curr_loc in [self.agent2_current_location,self.agent3_current_location,self.agent4_current_location]:\n",
    "                    pass\n",
    "                \n",
    "                elif curr_loc[1] not in list(range(20)):\n",
    "                    pass\n",
    "                \n",
    "                else:\n",
    "                    self.agent1_current_location=curr_loc\n",
    "            \n",
    "            elif action == 'attack_right':\n",
    "                curr_loc=(self.agent1_current_location[0],self.agent1_current_location[1]+1)\n",
    "                \n",
    "                if curr_loc in self.foods_location:\n",
    "                    pass\n",
    "                \n",
    "                elif curr_loc in [self.agent2_current_location,self.agent3_current_location,self.agent4_current_location]:\n",
    "                    self.agent1_current_cumulative_reward+=2\n",
    "                    idx=[self.agent2_current_location,self.agent3_current_location,self.agent4_current_location].index(curr_loc)\n",
    "                    if idx==0:\n",
    "                        self.agent2_current_cumulative_reward-=4\n",
    "                    elif idx==1:\n",
    "                        self.agent3_current_cumulative_reward-=4\n",
    "                    else:\n",
    "                        self.agent4_current_cumulative_reward-=4\n",
    "                        \n",
    "                elif curr_loc[1] not in list(range(20)):\n",
    "                    pass\n",
    "                \n",
    "                else:\n",
    "                    self.agent1_current_cumulative_reward-=0.1\n",
    "                    \n",
    "            else:\n",
    "                print('INVALID ACTION')\n",
    "                    \n",
    "        if agt==2:\n",
    "            if action == 'move_up':\n",
    "                curr_loc=(self.agent2_current_location[0]-1,self.agent2_current_location[1])\n",
    "                \n",
    "                if curr_loc in self.foods_location:\n",
    "                    self.agent2_current_cumulative_reward+=1\n",
    "                    \n",
    "                elif curr_loc in [self.agent1_current_location,self.agent3_current_location,self.agent4_current_location]:\n",
    "                    pass\n",
    "                \n",
    "                elif curr_loc[0] not in list(range(20)):\n",
    "                    pass\n",
    "                \n",
    "                else:\n",
    "                    self.agent2_current_location=curr_loc\n",
    "                    \n",
    "            \n",
    "            elif action == 'attack_up':\n",
    "                curr_loc=(self.agent2_current_location[0]-1,self.agent2_current_location[1])\n",
    "                \n",
    "                if curr_loc in self.foods_location:\n",
    "                    pass\n",
    "                \n",
    "                elif curr_loc in [self.agent1_current_location,self.agent3_current_location,self.agent4_current_location]:\n",
    "                    self.agent2_current_cumulative_reward+=2\n",
    "                    idx=[self.agent1_current_location,self.agent3_current_location,self.agent4_current_location].index(curr_loc)\n",
    "                    if idx==0:\n",
    "                        self.agent1_current_cumulative_reward-=4\n",
    "                    elif idx==1:\n",
    "                        self.agent3_current_cumulative_reward-=4\n",
    "                    else:\n",
    "                        self.agent4_current_cumulative_reward-=4\n",
    "                        \n",
    "                elif curr_loc[0] not in list(range(20)):\n",
    "                    pass\n",
    "                \n",
    "                else:\n",
    "                    self.agent2_current_cumulative_reward-=0.1\n",
    "            \n",
    "            elif action == 'move_down':\n",
    "                curr_loc=(self.agent2_current_location[0]+1,self.agent2_current_location[1])\n",
    "                \n",
    "                if curr_loc in self.foods_location:\n",
    "                    self.agent2_current_cumulative_reward+=1\n",
    "                    \n",
    "                elif curr_loc in [self.agent1_current_location,self.agent3_current_location,self.agent4_current_location]:\n",
    "                    pass\n",
    "                \n",
    "                elif curr_loc[0] not in list(range(20)):\n",
    "                    pass\n",
    "                \n",
    "                else:\n",
    "                    self.agent2_current_location=curr_loc\n",
    "            \n",
    "            elif action == 'attack_down':\n",
    "                curr_loc=(self.agent2_current_location[0]+1,self.agent2_current_location[1])\n",
    "                \n",
    "                if curr_loc in self.foods_location:\n",
    "                    pass\n",
    "                \n",
    "                elif curr_loc in [self.agent1_current_location,self.agent3_current_location,self.agent4_current_location]:\n",
    "                    self.agent2_current_cumulative_reward+=2\n",
    "                    idx=[self.agent1_current_location,self.agent3_current_location,self.agent4_current_location].index(curr_loc)\n",
    "                    if idx==0:\n",
    "                        self.agent1_current_cumulative_reward-=4\n",
    "                    elif idx==1:\n",
    "                        self.agent3_current_cumulative_reward-=4\n",
    "                    else:\n",
    "                        self.agent4_current_cumulative_reward-=4\n",
    "                        \n",
    "                elif curr_loc[0] not in list(range(20)):\n",
    "                    pass\n",
    "                \n",
    "                else:\n",
    "                    self.agent2_current_cumulative_reward-=0.1\n",
    "                    \n",
    "            elif action == 'move_left':\n",
    "                curr_loc=(self.agent2_current_location[0],self.agent2_current_location[1]-1)\n",
    "                \n",
    "                if curr_loc in self.foods_location:\n",
    "                    self.agent2_current_cumulative_reward+=1\n",
    "                    \n",
    "                elif curr_loc in [self.agent1_current_location,self.agent3_current_location,self.agent4_current_location]:\n",
    "                    pass\n",
    "                \n",
    "                elif curr_loc[1] not in list(range(20)):\n",
    "                    pass\n",
    "                \n",
    "                else:\n",
    "                    self.agent2_current_location=curr_loc\n",
    "            \n",
    "            elif action == 'attack_left':\n",
    "                curr_loc=(self.agent2_current_location[0],self.agent2_current_location[1]-1)\n",
    "                \n",
    "                if curr_loc in self.foods_location:\n",
    "                    pass\n",
    "                \n",
    "                elif curr_loc in [self.agent1_current_location,self.agent3_current_location,self.agent4_current_location]:\n",
    "                    self.agent2_current_cumulative_reward+=2\n",
    "                    idx=[self.agent1_current_location,self.agent3_current_location,self.agent4_current_location].index(curr_loc)\n",
    "                    if idx==0:\n",
    "                        self.agent1_current_cumulative_reward-=4\n",
    "                    elif idx==1:\n",
    "                        self.agent3_current_cumulative_reward-=4\n",
    "                    else:\n",
    "                        self.agent4_current_cumulative_reward-=4\n",
    "                        \n",
    "                elif curr_loc[1] not in list(range(20)):\n",
    "                    pass\n",
    "                \n",
    "                else:\n",
    "                    self.agent2_current_cumulative_reward-=0.1\n",
    "                    \n",
    "                    \n",
    "            elif action == 'move_right':\n",
    "                curr_loc=(self.agent2_current_location[0],self.agent2_current_location[1]+1)\n",
    "                \n",
    "                if curr_loc in self.foods_location:\n",
    "                    self.agent2_current_cumulative_reward+=1\n",
    "                    \n",
    "                elif curr_loc in [self.agent1_current_location,self.agent3_current_location,self.agent4_current_location]:\n",
    "                    pass\n",
    "                \n",
    "                elif curr_loc[1] not in list(range(20)):\n",
    "                    pass\n",
    "                \n",
    "                else:\n",
    "                    self.agent2_current_location=curr_loc\n",
    "            \n",
    "            elif action == 'attack_right':\n",
    "                curr_loc=(self.agent2_current_location[0],self.agent2_current_location[1]+1)\n",
    "                \n",
    "                if curr_loc in self.foods_location:\n",
    "                    pass\n",
    "                \n",
    "                elif curr_loc in [self.agent1_current_location,self.agent3_current_location,self.agent4_current_location]:\n",
    "                    self.agent2_current_cumulative_reward+=2\n",
    "                    idx=[self.agent1_current_location,self.agent3_current_location,self.agent4_current_location].index(curr_loc)\n",
    "                    if idx==0:\n",
    "                        self.agent1_current_cumulative_reward-=4\n",
    "                    elif idx==1:\n",
    "                        self.agent3_current_cumulative_reward-=4\n",
    "                    else:\n",
    "                        self.agent4_current_cumulative_reward-=4\n",
    "                        \n",
    "                elif curr_loc[1] not in list(range(20)):\n",
    "                    pass\n",
    "                \n",
    "                else:\n",
    "                    self.agent2_current_cumulative_reward-=0.1\n",
    "             \n",
    "            else:\n",
    "                print('INVALID ACTION')  \n",
    "                \n",
    "        if agt==3:\n",
    "            if action == 'move_up':\n",
    "                curr_loc=(self.agent3_current_location[0]-1,self.agent3_current_location[1])\n",
    "                \n",
    "                if curr_loc in self.foods_location:\n",
    "                    self.agent3_current_cumulative_reward+=1\n",
    "                    \n",
    "                elif curr_loc in [self.agent1_current_location,self.agent2_current_location,self.agent4_current_location]:\n",
    "                    pass\n",
    "                \n",
    "                elif curr_loc[0] not in list(range(20)):\n",
    "                    pass\n",
    "                \n",
    "                else:\n",
    "                    self.agent3_current_location=curr_loc\n",
    "                    \n",
    "            \n",
    "            elif action == 'attack_up':\n",
    "                curr_loc=(self.agent3_current_location[0]-1,self.agent3_current_location[1])\n",
    "                \n",
    "                if curr_loc in self.foods_location:\n",
    "                    pass\n",
    "                \n",
    "                elif curr_loc in [self.agent1_current_location,self.agent2_current_location,self.agent4_current_location]:\n",
    "                    self.agent3_current_cumulative_reward+=2\n",
    "                    idx=[self.agent1_current_location,self.agent2_current_location,self.agent4_current_location].index(curr_loc)\n",
    "                    if idx==0:\n",
    "                        self.agent1_current_cumulative_reward-=4\n",
    "                    elif idx==1:\n",
    "                        self.agent2_current_cumulative_reward-=4\n",
    "                    else:\n",
    "                        self.agent4_current_cumulative_reward-=4\n",
    "                        \n",
    "                elif curr_loc[0] not in list(range(20)):\n",
    "                    pass\n",
    "                \n",
    "                else:\n",
    "                    self.agent3_current_cumulative_reward-=0.1\n",
    "            \n",
    "            elif action == 'move_down':\n",
    "                curr_loc=(self.agent3_current_location[0]+1,self.agent3_current_location[1])\n",
    "                \n",
    "                if curr_loc in self.foods_location:\n",
    "                    self.agent3_current_cumulative_reward+=1\n",
    "                    \n",
    "                elif curr_loc in [self.agent1_current_location,self.agent2_current_location,self.agent4_current_location]:\n",
    "                    pass\n",
    "                \n",
    "                elif curr_loc[0] not in list(range(20)):\n",
    "                    pass\n",
    "                \n",
    "                else:\n",
    "                    self.agent3_current_location=curr_loc\n",
    "            \n",
    "            elif action == 'attack_down':\n",
    "                curr_loc=(self.agent3_current_location[0]+1,self.agent3_current_location[1])\n",
    "                \n",
    "                if curr_loc in self.foods_location:\n",
    "                    pass\n",
    "                \n",
    "                elif curr_loc in [self.agent1_current_location,self.agent2_current_location,self.agent4_current_location]:\n",
    "                    self.agent3_current_cumulative_reward+=2\n",
    "                    idx=[self.agent1_current_location,self.agent2_current_location,self.agent4_current_location].index(curr_loc)\n",
    "                    if idx==0:\n",
    "                        self.agent1_current_cumulative_reward-=4\n",
    "                    elif idx==1:\n",
    "                        self.agent2_current_cumulative_reward-=4\n",
    "                    else:\n",
    "                        self.agent4_current_cumulative_reward-=4\n",
    "                        \n",
    "                elif curr_loc[0] not in list(range(20)):\n",
    "                    pass\n",
    "                \n",
    "                else:\n",
    "                    self.agent3_current_cumulative_reward-=0.1\n",
    "                    \n",
    "            elif action == 'move_left':\n",
    "                curr_loc=(self.agent3_current_location[0],self.agent3_current_location[1]-1)\n",
    "                \n",
    "                if curr_loc in self.foods_location:\n",
    "                    self.agent3_current_cumulative_reward+=1\n",
    "                    \n",
    "                elif curr_loc in [self.agent1_current_location,self.agent2_current_location,self.agent4_current_location]:\n",
    "                    pass\n",
    "                \n",
    "                elif curr_loc[1] not in list(range(20)):\n",
    "                    pass\n",
    "                \n",
    "                else:\n",
    "                    self.agent3_current_location=curr_loc\n",
    "            \n",
    "            elif action == 'attack_left':\n",
    "                curr_loc=(self.agent3_current_location[0],self.agent3_current_location[1]-1)\n",
    "                \n",
    "                if curr_loc in self.foods_location:\n",
    "                    pass\n",
    "                \n",
    "                elif curr_loc in [self.agent1_current_location,self.agent2_current_location,self.agent4_current_location]:\n",
    "                    self.agent3_current_cumulative_reward+=2\n",
    "                    idx=[self.agent1_current_location,self.agent2_current_location,self.agent4_current_location].index(curr_loc)\n",
    "                    if idx==0:\n",
    "                        self.agent1_current_cumulative_reward-=4\n",
    "                    elif idx==1:\n",
    "                        self.agent2_current_cumulative_reward-=4\n",
    "                    else:\n",
    "                        self.agent4_current_cumulative_reward-=4\n",
    "                        \n",
    "                elif curr_loc[1] not in list(range(20)):\n",
    "                    pass\n",
    "                \n",
    "                else:\n",
    "                    self.agent3_current_cumulative_reward-=0.1\n",
    "                    \n",
    "                    \n",
    "            elif action == 'move_right':\n",
    "                curr_loc=(self.agent3_current_location[0],self.agent3_current_location[1]+1)\n",
    "                \n",
    "                if curr_loc in self.foods_location:\n",
    "                    self.agent3_current_cumulative_reward+=1\n",
    "                    \n",
    "                elif curr_loc in [self.agent1_current_location,self.agent2_current_location,self.agent4_current_location]:\n",
    "                    pass\n",
    "                \n",
    "                elif curr_loc[1] not in list(range(20)):\n",
    "                    pass\n",
    "                \n",
    "                else:\n",
    "                    self.agent3_current_location=curr_loc\n",
    "            \n",
    "            elif action == 'attack_right':\n",
    "                curr_loc=(self.agent3_current_location[0],self.agent3_current_location[1]+1)\n",
    "                \n",
    "                if curr_loc in self.foods_location:\n",
    "                    pass\n",
    "                \n",
    "                elif curr_loc in [self.agent1_current_location,self.agent2_current_location,self.agent4_current_location]:\n",
    "                    self.agent3_current_cumulative_reward+=2\n",
    "                    idx=[self.agent1_current_location,self.agent2_current_location,self.agent4_current_location].index(curr_loc)\n",
    "                    if idx==0:\n",
    "                        self.agent1_current_cumulative_reward-=4\n",
    "                    elif idx==1:\n",
    "                        self.agent2_current_cumulative_reward-=4\n",
    "                    else:\n",
    "                        self.agent4_current_cumulative_reward-=4\n",
    "                        \n",
    "                elif curr_loc[1] not in list(range(20)):\n",
    "                    pass\n",
    "                \n",
    "                else:\n",
    "                    self.agent3_current_cumulative_reward-=0.1\n",
    "            else:\n",
    "                print('INVALID ACTION')\n",
    "                    \n",
    "        if agt==4:\n",
    "            if action == 'move_up':\n",
    "                curr_loc=(self.agent4_current_location[0]-1,self.agent4_current_location[1])\n",
    "                \n",
    "                if curr_loc in self.foods_location:\n",
    "                    self.agent4_current_cumulative_reward+=1\n",
    "                    \n",
    "                elif curr_loc in [self.agent1_current_location,self.agent2_current_location,self.agent3_current_location]:\n",
    "                    pass\n",
    "                \n",
    "                elif curr_loc[0] not in list(range(20)):\n",
    "                    pass\n",
    "                \n",
    "                else:\n",
    "                    self.agent4_current_location=curr_loc\n",
    "                    \n",
    "            \n",
    "            elif action == 'attack_up':\n",
    "                curr_loc=(self.agent4_current_location[0]-1,self.agent4_current_location[1])\n",
    "                \n",
    "                if curr_loc in self.foods_location:\n",
    "                    pass\n",
    "                \n",
    "                elif curr_loc in [self.agent1_current_location,self.agent2_current_location,self.agent3_current_location]:\n",
    "                    self.agent4_current_cumulative_reward+=2\n",
    "                    idx=[self.agent1_current_location,self.agent2_current_location,self.agent3_current_location].index(curr_loc)\n",
    "                    if idx==0:\n",
    "                        self.agent1_current_cumulative_reward-=4\n",
    "                    elif idx==1:\n",
    "                        self.agent2_current_cumulative_reward-=4\n",
    "                    else:\n",
    "                        self.agent3_current_cumulative_reward-=4\n",
    "                        \n",
    "                elif curr_loc[0] not in list(range(20)):\n",
    "                    pass\n",
    "                \n",
    "                else:\n",
    "                    self.agent4_current_cumulative_reward-=0.1\n",
    "            \n",
    "            elif action == 'move_down':\n",
    "                curr_loc=(self.agent4_current_location[0]+1,self.agent4_current_location[1])\n",
    "                \n",
    "                if curr_loc in self.foods_location:\n",
    "                    self.agent4_current_cumulative_reward+=1\n",
    "                    \n",
    "                elif curr_loc in [self.agent1_current_location,self.agent2_current_location,self.agent3_current_location]:\n",
    "                    pass\n",
    "                \n",
    "                elif curr_loc[0] not in list(range(20)):\n",
    "                    pass\n",
    "                \n",
    "                else:\n",
    "                    self.agent4_current_location=curr_loc\n",
    "            \n",
    "            elif action == 'attack_down':\n",
    "                curr_loc=(self.agent4_current_location[0]+1,self.agent4_current_location[1])\n",
    "                \n",
    "                if curr_loc in self.foods_location:\n",
    "                    pass\n",
    "                \n",
    "                elif curr_loc in [self.agent1_current_location,self.agent2_current_location,self.agent3_current_location]:\n",
    "                    self.agent4_current_cumulative_reward+=2\n",
    "                    idx=[self.agent1_current_location,self.agent2_current_location,self.agent3_current_location].index(curr_loc)\n",
    "                    if idx==0:\n",
    "                        self.agent1_current_cumulative_reward-=4\n",
    "                    elif idx==1:\n",
    "                        self.agent2_current_cumulative_reward-=4\n",
    "                    else:\n",
    "                        self.agent3_current_cumulative_reward-=4\n",
    "                        \n",
    "                elif curr_loc[0] not in list(range(20)):\n",
    "                    pass\n",
    "                \n",
    "                else:\n",
    "                    self.agent4_current_cumulative_reward-=0.1\n",
    "                    \n",
    "            elif action == 'move_left':\n",
    "                curr_loc=(self.agent4_current_location[0],self.agent4_current_location[1]-1)\n",
    "                \n",
    "                if curr_loc in self.foods_location:\n",
    "                    self.agent4_current_cumulative_reward+=1\n",
    "                    \n",
    "                elif curr_loc in [self.agent1_current_location,self.agent2_current_location,self.agent3_current_location]:\n",
    "                    pass\n",
    "                \n",
    "                elif curr_loc[1] not in list(range(20)):\n",
    "                    pass\n",
    "                \n",
    "                else:\n",
    "                    self.agent4_current_location=curr_loc\n",
    "            \n",
    "            elif action == 'attack_left':\n",
    "                curr_loc=(self.agent4_current_location[0],self.agent4_current_location[1]-1)\n",
    "                \n",
    "                if curr_loc in self.foods_location:\n",
    "                    pass\n",
    "                \n",
    "                elif curr_loc in [self.agent1_current_location,self.agent2_current_location,self.agent3_current_location]:\n",
    "                    self.agent4_current_cumulative_reward+=2\n",
    "                    idx=[self.agent1_current_location,self.agent2_current_location,self.agent3_current_location].index(curr_loc)\n",
    "                    if idx==0:\n",
    "                        self.agent1_current_cumulative_reward-=4\n",
    "                    elif idx==1:\n",
    "                        self.agent2_current_cumulative_reward-=4\n",
    "                    else:\n",
    "                        self.agent3_current_cumulative_reward-=4\n",
    "                        \n",
    "                elif curr_loc[1] not in list(range(20)):\n",
    "                    pass\n",
    "                \n",
    "                else:\n",
    "                    self.agent4_current_cumulative_reward-=0.1\n",
    "                    \n",
    "                    \n",
    "            elif action == 'move_right':\n",
    "                curr_loc=(self.agent4_current_location[0],self.agent4_current_location[1]+1)\n",
    "                \n",
    "                if curr_loc in self.foods_location:\n",
    "                    self.agent4_current_cumulative_reward+=1\n",
    "                    \n",
    "                elif curr_loc in [self.agent1_current_location,self.agent2_current_location,self.agent3_current_location]:\n",
    "                    pass\n",
    "                \n",
    "                elif curr_loc[1] not in list(range(20)):\n",
    "                    pass\n",
    "                \n",
    "                else:\n",
    "                    self.agent4_current_location=curr_loc\n",
    "            \n",
    "            elif action == 'attack_right':\n",
    "                curr_loc=(self.agent4_current_location[0],self.agent4_current_location[1]+1)\n",
    "                \n",
    "                if curr_loc in self.foods_location:\n",
    "                    pass\n",
    "                \n",
    "                elif curr_loc in [self.agent1_current_location,self.agent2_current_location,self.agent3_current_location]:\n",
    "                    self.agent4_current_cumulative_reward+=2\n",
    "                    idx=[self.agent1_current_location,self.agent2_current_location,self.agent3_current_location].index(curr_loc)\n",
    "                    if idx==0:\n",
    "                        self.agent1_current_cumulative_reward-=4\n",
    "                    elif idx==1:\n",
    "                        self.agent2_current_cumulative_reward-=4\n",
    "                    else:\n",
    "                        self.agent3_current_cumulative_reward-=4\n",
    "                        \n",
    "                elif curr_loc[1] not in list(range(20)):\n",
    "                    pass\n",
    "                \n",
    "                else:\n",
    "                    self.agent4_current_cumulative_reward-=0.1\n",
    "            else:\n",
    "                print('INVALID ACTION')"
   ]
  },
  {
   "cell_type": "code",
   "execution_count": 14,
   "id": "damaged-conspiracy",
   "metadata": {},
   "outputs": [
    {
     "data": {
      "image/png": "[encoded data removed]",
      "text/plain": [
       "<Figure size 288x288 with 1 Axes>"
      ]
     },
     "metadata": {
      "needs_background": "light"
     },
     "output_type": "display_data"
    }
   ],
   "source": [
    "env=gridenv()\n",
    "env.plotenv()"
   ]
  },
  {
   "cell_type": "markdown",
   "id": "descending-button",
   "metadata": {},
   "source": [
    "### Creating an agent class based on Q-learning algoritm"
   ]
  },
  {
   "cell_type": "code",
   "execution_count": 15,
   "id": "extraordinary-thumb",
   "metadata": {},
   "outputs": [],
   "source": [
    "class Qlearner_agent:\n",
    "    def __init__(self,environment, step_size=0.1, discount_factor=0.95,exploration_rate=0.1 ):\n",
    "        self.environment=environment\n",
    "        self.step_size=step_size\n",
    "        self.discount_factor=discount_factor\n",
    "        self.exploration_rate=exploration_rate\n",
    "        self.q_table=dict()\n",
    "        #initialize Q(s,a) values\n",
    "        for x in range(environment.length):\n",
    "            for y in range(environment.width):\n",
    "                self.q_table[(x,y)]={'move_up':0, 'move_down':0, 'move_left':0, 'move_right':0 ,\n",
    "                                     'attack_up':0, 'attack_down':0, 'attack_left':0, 'attack_right':0}     \n",
    "       ################################################################################################# \n",
    "    def pick_action_agant1(self):\n",
    "        if random.uniform(0,1)>self.exploration_rate:\n",
    "            curr_Q=self.q_table[self.environment.agent1_current_location]\n",
    "            max_action_val=max(curr_Q.values())\n",
    "            action=random.choice([action for action,value in curr_Q.items() if value == max_action_val])\n",
    "        else:\n",
    "            action=random.choice(self.environment.actions)\n",
    "        return action\n",
    "    def pick_action_agant2(self):\n",
    "        if random.uniform(0,1)>self.exploration_rate:\n",
    "            curr_Q=self.q_table[self.environment.agent2_current_location]\n",
    "            max_action_val=max(curr_Q.values())\n",
    "            action=random.choice([action for action,value in curr_Q.items() if value == max_action_val])\n",
    "        else:\n",
    "            action=random.choice(self.environment.actions)\n",
    "        return action\n",
    "    def pick_action_agant3(self):\n",
    "        if random.uniform(0,1)>self.exploration_rate:\n",
    "            curr_Q=self.q_table[self.environment.agent3_current_location]\n",
    "            max_action_val=max(curr_Q.values())\n",
    "            action=random.choice([action for action,value in curr_Q.items() if value == max_action_val])\n",
    "        else:\n",
    "            action=random.choice(self.environment.actions)\n",
    "        return action  \n",
    "    def pick_action_agant4(self):\n",
    "        if random.uniform(0,1)>self.exploration_rate:\n",
    "            curr_Q=self.q_table[self.environment.agent4_current_location]\n",
    "            max_action_val=max(curr_Q.values())\n",
    "            action=random.choice([action for action,value in curr_Q.items() if value == max_action_val])\n",
    "        else:\n",
    "            action=random.choice(self.environment.actions)\n",
    "        return action\n",
    "    \n",
    "    def learn(self,prev_loc,reward, new_loc, action):\n",
    "        prev_Q_val=self.q_table[prev_loc][action]\n",
    "        new_Qs = self.q_table[new_loc]\n",
    "        max_of_new_Qs= max(new_Qs.values())\n",
    "        self.q_table[prev_loc][action]= prev_Q_val + self.step_size*(reward + self.discount_factor*max_of_new_Qs - prev_Q_val)\n",
    "        \n",
    "    def update_exploration_rate(self, decay_rate, episode):\n",
    "         self.exploration_rate=  self.exploration_rate *np.exp(-decay_rate*episode)\n",
    "        "
   ]
  },
  {
   "cell_type": "markdown",
   "id": "numerical-delivery",
   "metadata": {},
   "source": [
    "# Start training"
   ]
  },
  {
   "cell_type": "code",
   "execution_count": 16,
   "id": "congressional-sally",
   "metadata": {},
   "outputs": [],
   "source": [
    "def train(number_of_episodes,steps_per_episode, environment, agent1, agent2 ,agent3 ,agent4,param):\n",
    "    rewards_of_all_episodes=[]\n",
    "\n",
    "    for episode in range(number_of_episodes):\n",
    "\n",
    "        agent1.update_exploration_rate(0.001, episode)\n",
    "        agent2.update_exploration_rate(0.001, episode)\n",
    "        agent3.update_exploration_rate(0.001, episode)\n",
    "        agent4.update_exploration_rate(0.001, episode)\n",
    "        \n",
    "        for step in range(steps_per_episode):\n",
    "            action1=agent1.pick_action_agant1()\n",
    "            action2=agent2.pick_action_agant2()\n",
    "            action3=agent3.pick_action_agant3()\n",
    "            action4=agent4.pick_action_agant4()\n",
    "        \n",
    "            prev_cumulative_reward_1=environment.agent1_current_cumulative_reward\n",
    "            prev_cumulative_reward_2=environment.agent2_current_cumulative_reward\n",
    "            prev_cumulative_reward_3=environment.agent3_current_cumulative_reward\n",
    "            prev_cumulative_reward_4=environment.agent4_current_cumulative_reward\n",
    "\n",
    "            prev_loc1=environment.agent1_current_location\n",
    "            prev_loc2=environment.agent2_current_location\n",
    "            prev_loc3=environment.agent3_current_location\n",
    "            prev_loc4=environment.agent4_current_location\n",
    "            ###assign random priority of taking actions for agents at each time step\n",
    "            b=[action1,action2,action3,action4]\n",
    "            lst=[[b[i],i+1] for i in range(len(b)) ]\n",
    "            random.shuffle(lst)\n",
    "            for i in lst:\n",
    "                environment.take_step(i[0],i[1])\n",
    "\n",
    "            new_loc1=environment.agent1_current_location\n",
    "            new_loc2=environment.agent2_current_location\n",
    "            new_loc3=environment.agent3_current_location\n",
    "            new_loc4=environment.agent4_current_location\n",
    "\n",
    "            reward1=environment.agent1_current_cumulative_reward - prev_cumulative_reward_1\n",
    "            reward2=environment.agent2_current_cumulative_reward - prev_cumulative_reward_2\n",
    "            reward3=environment.agent3_current_cumulative_reward - prev_cumulative_reward_3\n",
    "            reward4=environment.agent4_current_cumulative_reward - prev_cumulative_reward_4\n",
    "\n",
    "            agent1.learn(prev_loc1,reward1,new_loc1,action1)\n",
    "            agent2.learn(prev_loc2,reward2,new_loc2,action2)\n",
    "            agent3.learn(prev_loc3,reward3,new_loc3,action3)\n",
    "            agent4.learn(prev_loc4,reward4,new_loc4,action4)\n",
    "\n",
    "            if episode==0:\n",
    "                environment.on_map_vis(step,episode,param)\n",
    "            if episode==20:\n",
    "                environment.on_map_vis(step,episode,param)\n",
    "            if episode==(number_of_episodes-1):\n",
    "                environment.on_map_vis(step,episode,param)\n",
    "        rewards_of_all_episodes.append([environment.agent1_current_cumulative_reward,\n",
    "                                    environment.agent2_current_cumulative_reward,\n",
    "                                    environment.agent3_current_cumulative_reward,\n",
    "                                    environment.agent4_current_cumulative_reward])\n",
    "        \n",
    "        ###reset the environment after each episode\n",
    "        if episode!=(number_of_episodes-1):\n",
    "            environment.__init__()\n",
    "    \n",
    "    return rewards_of_all_episodes\n",
    "        "
   ]
  },
  {
   "cell_type": "code",
   "execution_count": 17,
   "id": "anonymous-jungle",
   "metadata": {},
   "outputs": [],
   "source": [
    "def plot_av_reward(list_of_rewards,n_ep):\n",
    "    fig = plt.gcf()\n",
    "    fig.set_size_inches(12, 6)\n",
    "    plt.plot(np.mean(list_of_rewards, axis=1), label='Average rewards of 4 agents after each episode')\n",
    "    plt.xlabel(\"Episodes\")\n",
    "    plt.ylabel(\"Average reward\",rotation=0, labelpad=40)\n",
    "    plt.xlim(0,n_ep)\n",
    "    plt.ylim(np.min(np.mean(list_of_rewards, axis=1)),np.max(np.mean(list_of_rewards, axis=1))+200)\n",
    "    plt.legend()\n",
    "    plt.show()\n"
   ]
  },
  {
   "cell_type": "code",
   "execution_count": 18,
   "id": "offensive-delta",
   "metadata": {},
   "outputs": [],
   "source": [
    "def plot_each_agent_reward(list_of_rewards,n_ep):\n",
    "    fig = plt.gcf()\n",
    "    fig.set_size_inches(12, 6)\n",
    "    plt.plot([item[0] for item in list_of_rewards], label='Total reward of Agent 1 at each episode')\n",
    "    plt.plot([item[1] for item in list_of_rewards], label='Total reward of Agent 2 at each episode')\n",
    "    plt.plot([item[2] for item in list_of_rewards], label='Total reward of Agent 3 at each episode')\n",
    "    plt.plot([item[3] for item in list_of_rewards], label='Total reward of Agent 4 at each episode')\n",
    "    plt.xlabel(\"Episodes\")\n",
    "    plt.ylabel(\"Average reward\",rotation=0, labelpad=40)\n",
    "    plt.xlim(0,n_ep)\n",
    "    plt.ylim(np.min(list_of_rewards),np.max(list_of_rewards)+200)\n",
    "    plt.legend()\n",
    "    plt.show()"
   ]
  },
  {
   "cell_type": "code",
   "execution_count": 19,
   "id": "sticky-delay",
   "metadata": {},
   "outputs": [],
   "source": [
    "def loc_agent(environment):\n",
    "    print(f\"Location of Agent 1 at the last episode and the last step: {environment.agent1_current_location}\")\n",
    "    print(f\"Location of Agent 2 at the last episode and the last step: {environment.agent2_current_location}\")\n",
    "    print(f\"Location of Agent 3 at the last episode and the last step: {environment.agent3_current_location}\")\n",
    "    print(f\"Location of Agent 4 at the last episode and the last step: {environment.agent4_current_location}\")"
   ]
  },
  {
   "cell_type": "code",
   "execution_count": 20,
   "id": "ancient-seattle",
   "metadata": {},
   "outputs": [],
   "source": [
    "class Player(pygame.sprite.Sprite):\n",
    "    def __init__(self, pos_x, pos_y,episode,steps_per_episode,param):\n",
    "        super().__init__()\n",
    "        self.param=param\n",
    "        self.episode=episode-1\n",
    "        self.steps_per_episode=steps_per_episode-1\n",
    "        self.is_animating=False\n",
    "        self.sprites=[]\n",
    "        for i in range(self.steps_per_episode):\n",
    "            self.sprites.append(pygame.image.load(f'img/run{self.param}-ep{self.episode}-step{i}.png'))\n",
    "            \n",
    "        self.current_sprite = 0\n",
    "        self.image = self.sprites[self.current_sprite]\n",
    "        self.rect = self.image.get_rect()\n",
    "        \n",
    "        self.rect.center = [pos_x,pos_y]\n",
    " \n",
    "        \n",
    "    def animate(self):\n",
    "        self.is_animating=True\n",
    "        \n",
    "    def update(self,speed):\n",
    "        if self.is_animating==True:\n",
    "            self.current_sprite+=speed\n",
    "            if self.current_sprite>=len(self.sprites):\n",
    "                self.current_sprite=0\n",
    "                self.is_animating=False\n",
    "            self.image=self.sprites[int(self.current_sprite)]\n",
    "        "
   ]
  },
  {
   "cell_type": "code",
   "execution_count": 21,
   "id": "actual-electron",
   "metadata": {},
   "outputs": [],
   "source": [
    "   def animate_env(episode,steps_per_episode,speed=0.25,param=0) :\n",
    "    #General setup\n",
    "    pygame.init()\n",
    "    clock = pygame.time.Clock()\n",
    "    # Game Screen\n",
    "    screen_width = 230\n",
    "    screen_height = 240\n",
    "    screen = pygame.display.set_mode((screen_width,screen_height))\n",
    "    pygame.display.set_caption(\"Sprite Animation\")\n",
    "\n",
    "    # Creating the sprites and groups\n",
    "    moving_sprites = pygame.sprite.Group()\n",
    "    player = Player(112,120,episode,steps_per_episode,param)\n",
    "    moving_sprites.add(player)\n",
    "\n",
    "    while True:\n",
    "        for event in pygame.event.get():\n",
    "            if event.type == pygame.QUIT:\n",
    "                pygame.quit()\n",
    "                sys.exit()\n",
    "            if event.type == pygame.KEYDOWN:\n",
    "                player.animate()\n",
    "\n",
    "        # Drawing\n",
    "        screen.fill((0,0,0))\n",
    "        moving_sprites.draw(screen)\n",
    "        moving_sprites.update(speed)\n",
    "        pygame.display.flip()\n",
    "        clock.tick(60)"
   ]
  },
  {
   "cell_type": "markdown",
   "id": "fleet-promise",
   "metadata": {},
   "source": [
    "____"
   ]
  },
  {
   "cell_type": "markdown",
   "id": "swedish-tribute",
   "metadata": {},
   "source": [
    "# First Setting:\n",
    "### learning rate: 0.1\n",
    "### discount factor: 0.95\n",
    "### epsilon: 0.2\n",
    "### number of episodes: 100\n",
    "### number of steps in each episode: 1000"
   ]
  },
  {
   "cell_type": "code",
   "execution_count": 40,
   "id": "requested-authentication",
   "metadata": {},
   "outputs": [],
   "source": [
    "environment=gridenv()\n",
    "\n",
    "agent1 = Qlearner_agent(environment, step_size=0.1, discount_factor=0.95,exploration_rate=0.2)\n",
    "agent2 = Qlearner_agent(environment, step_size=0.1, discount_factor=0.95,exploration_rate=0.2)\n",
    "agent3 = Qlearner_agent(environment, step_size=0.1, discount_factor=0.95,exploration_rate=0.2)\n",
    "agent4 = Qlearner_agent(environment, step_size=0.1, discount_factor=0.95,exploration_rate=0.2)\n",
    "\n",
    "list_of_rewards1=train(100,1000, environment, agent1, agent2 ,agent3 ,agent4,1)"
   ]
  },
  {
   "cell_type": "markdown",
   "id": "thermal-campaign",
   "metadata": {},
   "source": [
    "Let's take a look into the rewards of agents at each episode"
   ]
  },
  {
   "cell_type": "code",
   "execution_count": 41,
   "id": "independent-flight",
   "metadata": {
    "scrolled": true
   },
   "outputs": [
    {
     "data": {
      "text/plain": [
       "[[20.09999999999993,\n",
       "  325.1000000000008,\n",
       "  372.0999999999982,\n",
       "  -17.599999999999973],\n",
       " [261.3000000000003,\n",
       "  516.6999999999994,\n",
       "  17.899999999999537,\n",
       "  439.49999999999955],\n",
       " [586.5999999999997,\n",
       "  227.10000000000008,\n",
       "  663.5999999999989,\n",
       "  266.20000000000067],\n",
       " [338.1999999999979, 531.1999999999986, 585.8999999999987, 213.60000000000016],\n",
       " [725.7999999999994, 659.2999999999992, 692.2999999999986, -10.19999999999998],\n",
       " [746.5999999999993, 721.2999999999993, 719.0999999999989, 486.2999999999996],\n",
       " [736.3999999999994, 637.0999999999995, 744.7999999999987, 594.6999999999998],\n",
       " [747.5999999999993, 729.5999999999991, 733.3999999999988, 705.5999999999992],\n",
       " [748.5999999999993, 726.3999999999988, 735.3999999999988, 707.5999999999991],\n",
       " [751.6999999999992, 728.3999999999988, 739.3999999999988, 709.6999999999992],\n",
       " [755.6999999999992, 729.4999999999989, 744.5999999999989, 717.9999999999991],\n",
       " [756.6999999999992, 732.6999999999988, 744.5999999999989, 718.9999999999991],\n",
       " [758.7999999999993, 741.7999999999988, 748.5999999999989, 724.0999999999991],\n",
       " [758.7999999999993, 742.8999999999988, 755.6999999999989, 726.0999999999991],\n",
       " [763.7999999999993, 743.8999999999988, 755.6999999999989, 735.1999999999991],\n",
       " [765.7999999999993, 749.1999999999988, 758.999999999999, 738.3999999999992],\n",
       " [766.8999999999993, 752.1999999999988, 760.999999999999, 743.3999999999992],\n",
       " [768.8999999999993, 752.1999999999988, 764.0999999999989, 745.3999999999992],\n",
       " [776.0999999999993, 758.4999999999987, 766.2999999999989, 751.6999999999992],\n",
       " [779.2999999999994, 765.5999999999988, 770.499999999999, 754.8999999999993],\n",
       " [783.3999999999994, 768.6999999999988, 781.7999999999989, 755.9999999999993],\n",
       " [786.3999999999994, 775.8999999999988, 791.9999999999989, 759.0999999999993],\n",
       " [792.3999999999994, 776.8999999999988, 794.0999999999989, 762.2999999999993],\n",
       " [799.5999999999995, 784.1999999999989, 799.2999999999989, 766.2999999999993],\n",
       " [802.5999999999995, 788.599999999999, 804.399999999999, 772.3999999999993],\n",
       " [807.7999999999995, 788.599999999999, 806.399999999999, 775.4999999999993],\n",
       " [810.7999999999995, 793.599999999999, 811.499999999999, 780.5999999999993],\n",
       " [819.0999999999995, 803.799999999999, 818.699999999999, 785.6999999999994],\n",
       " [824.0999999999995, 803.799999999999, 820.699999999999, 794.0999999999993],\n",
       " [827.2999999999995, 806.899999999999, 822.8999999999991, 795.1999999999994],\n",
       " [830.2999999999995, 813.899999999999, 829.0999999999991, 806.3999999999994],\n",
       " [832.3999999999994, 818.899999999999, 836.1999999999991, 812.5999999999995],\n",
       " [835.4999999999994, 822.199999999999, 837.2999999999992, 817.6999999999995],\n",
       " [838.5999999999996, 833.4999999999991, 848.4999999999991, 826.7999999999994],\n",
       " [840.5999999999996, 841.799999999999, 855.7999999999992, 834.8999999999994],\n",
       " [849.8999999999996, 850.8999999999992, 856.8999999999992, 837.9999999999994],\n",
       " [856.9999999999995, 852.8999999999992, 862.0999999999992, 844.1999999999995],\n",
       " [862.9999999999995, 856.1999999999992, 871.4999999999992, 845.2999999999995],\n",
       " [866.0999999999996, 858.3999999999992, 878.7999999999993, 850.4999999999995],\n",
       " [871.0999999999996, 865.6999999999992, 883.8999999999993, 858.6999999999996],\n",
       " [875.1999999999996, 869.6999999999992, 886.8999999999993, 862.8999999999995],\n",
       " [881.2999999999996, 871.6999999999992, 887.9999999999993, 875.9999999999995],\n",
       " [885.3999999999996, 873.7999999999993, 892.1999999999994, 879.9999999999995],\n",
       " [890.4999999999997, 875.7999999999993, 900.3999999999994, 884.0999999999996],\n",
       " [893.4999999999997, 882.9999999999993, 907.4999999999994, 890.0999999999996],\n",
       " [897.6999999999997, 886.0999999999993, 912.5999999999995, 893.1999999999996],\n",
       " [902.6999999999997, 893.2999999999993, 916.5999999999995, 898.4999999999997],\n",
       " [906.6999999999997, 894.3999999999993, 920.6999999999995, 899.4999999999997],\n",
       " [914.7999999999997, 901.3999999999993, 921.7999999999995, 901.6999999999997],\n",
       " [916.9999999999998, 908.6999999999994, 922.8999999999995, 909.6999999999997],\n",
       " [925.1999999999997, 913.9999999999994, 927.0999999999995, 911.8999999999997],\n",
       " [928.1999999999997, 916.1999999999995, 930.1999999999995, 918.8999999999997],\n",
       " [930.3999999999997, 920.5999999999996, 932.3999999999995, 921.9999999999998],\n",
       " [933.4999999999998, 927.6999999999996, 934.5999999999996, 923.9999999999998],\n",
       " [936.4999999999998, 928.7999999999996, 937.6999999999996, 930.0999999999997],\n",
       " [942.6999999999998, 931.7999999999996, 942.0999999999997, 933.0999999999997],\n",
       " [944.6999999999998, 934.8999999999996, 943.1999999999997, 937.0999999999997],\n",
       " [944.6999999999998, 937.0999999999997, 945.3999999999997, 937.0999999999997],\n",
       " [947.6999999999998, 937.0999999999997, 948.4999999999998, 939.1999999999998],\n",
       " [950.7999999999998, 940.1999999999997, 949.5999999999998, 940.2999999999997],\n",
       " [952.7999999999998, 941.2999999999997, 952.6999999999998, 940.2999999999997],\n",
       " [957.7999999999998, 942.2999999999997, 961.7999999999998, 941.3999999999997],\n",
       " [960.8999999999999, 945.4999999999998, 965.9999999999999, 943.5999999999998],\n",
       " [960.8999999999999, 950.5999999999998, 967.0999999999999, 947.5999999999998],\n",
       " [960.8999999999999, 952.7999999999998, 967.0999999999999, 949.5999999999998],\n",
       " [962.9999999999999, 952.7999999999998, 972.1999999999999, 951.5999999999998],\n",
       " [966.9999999999999, 957.9999999999999, 972.1999999999999, 951.5999999999998],\n",
       " [967.9999999999999, 959.9999999999999, 974.1999999999999, 952.6999999999998],\n",
       " [971.9999999999999, 962.1999999999998, 974.1999999999999, 957.8],\n",
       " [972.9999999999999, 963.2999999999998, 977.3, 960.8],\n",
       " [974.9999999999999, 967.2999999999998, 979.3, 961.8999999999999],\n",
       " [976.0999999999999, 967.2999999999998, 979.3, 967.3],\n",
       " [978.0999999999999, 968.2999999999998, 979.3, 968.4],\n",
       " [984.1999999999999, 969.2999999999998, 980.4, 970.4],\n",
       " [986.4, 973.2999999999998, 980.4, 973.5],\n",
       " [987.5, 976.3999999999999, 980.4, 975.5],\n",
       " [988.6, 976.3999999999999, 981.4, 975.5],\n",
       " [988.6, 976.3999999999999, 982.5, 976.5],\n",
       " [988.6, 979.4999999999999, 983.5999999999999, 976.5],\n",
       " [988.6, 980.4999999999999, 983.5999999999999, 976.5],\n",
       " [988.6, 980.4999999999999, 985.5999999999999, 977.6],\n",
       " [988.6, 981.5999999999999, 985.5999999999999, 977.6],\n",
       " [989.6, 983.8, 986.6999999999999, 977.6],\n",
       " [989.6, 984.8, 986.6999999999999, 978.7],\n",
       " [990.6, 984.8, 987.8, 978.7],\n",
       " [990.6, 986.8, 988.9, 978.7],\n",
       " [992.6999999999999, 986.8, 988.9, 979.7],\n",
       " [992.6999999999999, 986.8, 988.9, 981.7],\n",
       " [992.6999999999999, 986.8, 990.9, 983.7],\n",
       " [993.8, 986.8, 994, 988.8],\n",
       " [993.8, 987.9, 994, 988.8],\n",
       " [993.8, 987.9, 994, 988.8],\n",
       " [993.8, 989.9, 994, 989.8],\n",
       " [993.8, 989.9, 994, 989.8],\n",
       " [993.8, 989.9, 994, 991.8],\n",
       " [993.8, 989.9, 994, 991.8],\n",
       " [993.8, 989.9, 994, 991.8],\n",
       " [993.8, 989.9, 996, 991.8],\n",
       " [993.8, 989.9, 996, 994],\n",
       " [993.8, 989.9, 996, 994]]"
      ]
     },
     "execution_count": 41,
     "metadata": {},
     "output_type": "execute_result"
    }
   ],
   "source": [
    "list_of_rewards1"
   ]
  },
  {
   "cell_type": "code",
   "execution_count": 42,
   "id": "perfect-soviet",
   "metadata": {},
   "outputs": [
    {
     "name": "stdout",
     "output_type": "stream",
     "text": [
      "Location of Agent 1 at the last episode and the last step: (6, 19)\n",
      "Location of Agent 2 at the last episode and the last step: (10, 3)\n",
      "Location of Agent 3 at the last episode and the last step: (4, 4)\n",
      "Location of Agent 4 at the last episode and the last step: (3, 5)\n"
     ]
    }
   ],
   "source": [
    "loc_agent(environment)"
   ]
  },
  {
   "cell_type": "markdown",
   "id": "detailed-fundamentals",
   "metadata": {},
   "source": [
    "###### You can see the behaviours of agents and the dynamics of the environment over the FIRST episode in the below animation."
   ]
  },
  {
   "cell_type": "code",
   "execution_count": 43,
   "id": "another-softball",
   "metadata": {},
   "outputs": [
    {
     "ename": "SystemExit",
     "evalue": "",
     "output_type": "error",
     "traceback": [
      "An exception has occurred, use %tb to see the full traceback.\n",
      "\u001b[1;31mSystemExit\u001b[0m\n"
     ]
    },
    {
     "name": "stderr",
     "output_type": "stream",
     "text": [
      "c:\\users\\saberi\\appdata\\local\\programs\\python\\python39\\lib\\site-packages\\IPython\\core\\interactiveshell.py:3435: UserWarning: To exit: use 'exit', 'quit', or Ctrl-D.\n",
      "  warn(\"To exit: use 'exit', 'quit', or Ctrl-D.\", stacklevel=1)\n"
     ]
    }
   ],
   "source": [
    "animate_env(1,1000,0.3,1)"
   ]
  },
  {
   "cell_type": "markdown",
   "id": "super-investment",
   "metadata": {},
   "source": [
    "###### You can see the behaviours of agents and the dynamics of the environment over the 20th episode in the below animation."
   ]
  },
  {
   "cell_type": "code",
   "execution_count": 44,
   "id": "convenient-roller",
   "metadata": {},
   "outputs": [
    {
     "ename": "SystemExit",
     "evalue": "",
     "output_type": "error",
     "traceback": [
      "An exception has occurred, use %tb to see the full traceback.\n",
      "\u001b[1;31mSystemExit\u001b[0m\n"
     ]
    }
   ],
   "source": [
    "animate_env(21,1000,0.3,1)"
   ]
  },
  {
   "cell_type": "markdown",
   "id": "executed-greensboro",
   "metadata": {},
   "source": [
    "###### You can see the behaviours of agents and the dynamics of the environment over the LAST episode in the below animation."
   ]
  },
  {
   "cell_type": "code",
   "execution_count": 45,
   "id": "peripheral-influence",
   "metadata": {},
   "outputs": [
    {
     "ename": "SystemExit",
     "evalue": "",
     "output_type": "error",
     "traceback": [
      "An exception has occurred, use %tb to see the full traceback.\n",
      "\u001b[1;31mSystemExit\u001b[0m\n"
     ]
    }
   ],
   "source": [
    "animate_env(100,1000,0.3,1)"
   ]
  },
  {
   "cell_type": "code",
   "execution_count": 46,
   "id": "pressed-efficiency",
   "metadata": {},
   "outputs": [
    {
     "data": {
      "image/png": "[encoded data removed]",
      "text/plain": [
       "<Figure size 864x432 with 1 Axes>"
      ]
     },
     "metadata": {
      "needs_background": "light"
     },
     "output_type": "display_data"
    }
   ],
   "source": [
    "plot_av_reward(list_of_rewards1,100)"
   ]
  },
  {
   "cell_type": "code",
   "execution_count": 47,
   "id": "compact-conclusion",
   "metadata": {},
   "outputs": [
    {
     "data": {
      "image/png": "[encoded data removed]",
      "text/plain": [
       "<Figure size 864x432 with 1 Axes>"
      ]
     },
     "metadata": {
      "needs_background": "light"
     },
     "output_type": "display_data"
    }
   ],
   "source": [
    "plot_each_agent_reward(list_of_rewards1,100)"
   ]
  },
  {
   "cell_type": "markdown",
   "id": "awful-continent",
   "metadata": {},
   "source": [
    "___"
   ]
  },
  {
   "cell_type": "markdown",
   "id": "pleased-blair",
   "metadata": {},
   "source": [
    "# Second Setting:\n",
    "### learning rate: 0.9 \n",
    "### discount factor: 0.99\n",
    "### epsilon: 0.2\n",
    "### number of episodes: 100\n",
    "### number of steps in each episdoe: 1000\n"
   ]
  },
  {
   "cell_type": "code",
   "execution_count": 48,
   "id": "honey-element",
   "metadata": {},
   "outputs": [],
   "source": [
    "environment=gridenv()\n",
    "\n",
    "agent1 = Qlearner_agent(environment, step_size=0.9, discount_factor=0.99,exploration_rate=0.2)\n",
    "agent2 = Qlearner_agent(environment, step_size=0.9, discount_factor=0.99,exploration_rate=0.2)\n",
    "agent3 = Qlearner_agent(environment, step_size=0.9, discount_factor=0.99,exploration_rate=0.2)\n",
    "agent4 = Qlearner_agent(environment, step_size=0.9, discount_factor=0.99,exploration_rate=0.2)\n",
    "\n",
    "list_of_rewards2=train(100,1000, environment, agent1, agent2 ,agent3 ,agent4,2)"
   ]
  },
  {
   "cell_type": "markdown",
   "id": "available-millennium",
   "metadata": {},
   "source": [
    "Let's take a look into the rewards of agents at each episode\n"
   ]
  },
  {
   "cell_type": "code",
   "execution_count": 49,
   "id": "athletic-australian",
   "metadata": {},
   "outputs": [
    {
     "data": {
      "text/plain": [
       "[[293.6, 147.30000000000132, 0.6000000000005303, 78.00000000000014],\n",
       " [493.99999999999983,\n",
       "  615.4999999999991,\n",
       "  372.00000000000057,\n",
       "  36.89999999999978],\n",
       " [9.599999999999698,\n",
       "  453.79999999999995,\n",
       "  694.4999999999985,\n",
       "  294.69999999999925],\n",
       " [-8.200000000000014,\n",
       "  693.499999999999,\n",
       "  723.4999999999986,\n",
       "  -53.299999999999535],\n",
       " [350.0999999999999, 541.8999999999992, 709.5999999999989, 651.6999999999991],\n",
       " [502.49999999999966, 710.899999999999, 724.5999999999988, 693.8999999999991],\n",
       " [627.0999999999996, 704.2999999999988, 678.399999999999, 692.1999999999991],\n",
       " [710.4999999999994, 721.0999999999988, 708.2999999999989, 692.2999999999992],\n",
       " [748.5999999999993, 727.2999999999989, 726.2999999999988, 698.4999999999992],\n",
       " [751.6999999999992, 727.2999999999989, 730.2999999999988, 700.6999999999992],\n",
       " [755.6999999999992, 730.2999999999989, 735.4999999999989, 710.8999999999991],\n",
       " [756.6999999999992, 733.399999999999, 735.4999999999989, 711.9999999999991],\n",
       " [758.7999999999993, 740.4999999999989, 739.4999999999989, 716.9999999999991],\n",
       " [758.7999999999993, 741.4999999999989, 748.5999999999989, 718.9999999999991],\n",
       " [763.7999999999993, 742.5999999999989, 751.6999999999989, 726.2999999999992],\n",
       " [765.7999999999993, 748.0999999999989, 754.999999999999, 729.4999999999991],\n",
       " [766.8999999999993, 749.1999999999989, 756.999999999999, 733.4999999999991],\n",
       " [768.8999999999993, 751.1999999999989, 760.0999999999989, 735.4999999999991],\n",
       " [776.0999999999993, 755.5999999999989, 762.2999999999989, 741.6999999999991],\n",
       " [779.2999999999994, 760.6999999999989, 766.499999999999, 746.8999999999992],\n",
       " [783.3999999999994, 761.6999999999989, 777.7999999999989, 753.9999999999992],\n",
       " [786.3999999999994, 770.999999999999, 787.9999999999989, 757.2999999999992],\n",
       " [792.3999999999994, 772.0999999999989, 790.099999999999, 762.3999999999992],\n",
       " [799.5999999999995, 777.299999999999, 796.299999999999, 768.3999999999992],\n",
       " [802.5999999999995, 781.4999999999991, 801.399999999999, 772.5999999999992],\n",
       " [807.7999999999995, 783.4999999999991, 803.399999999999, 775.5999999999992],\n",
       " [810.7999999999995, 788.599999999999, 808.499999999999, 780.6999999999992],\n",
       " [819.0999999999995, 800.799999999999, 815.699999999999, 785.7999999999993],\n",
       " [824.0999999999995, 800.799999999999, 817.699999999999, 795.8999999999993],\n",
       " [827.2999999999995, 803.9999999999991, 819.8999999999991, 796.9999999999993],\n",
       " [830.2999999999995, 809.1999999999991, 826.0999999999991, 808.1999999999992],\n",
       " [832.3999999999994, 814.2999999999992, 833.1999999999991, 814.3999999999993],\n",
       " [835.4999999999994, 817.5999999999991, 834.2999999999992, 819.4999999999993],\n",
       " [838.5999999999996, 826.9999999999992, 847.4999999999991, 830.5999999999993],\n",
       " [840.5999999999996, 835.3999999999993, 854.7999999999992, 838.6999999999994],\n",
       " [849.8999999999996, 844.3999999999993, 855.8999999999992, 839.7999999999994],\n",
       " [856.9999999999995, 848.3999999999993, 861.0999999999992, 845.9999999999993],\n",
       " [864.9999999999995, 851.5999999999993, 870.4999999999992, 848.9999999999993],\n",
       " [868.0999999999996, 853.6999999999994, 877.7999999999993, 853.9999999999993],\n",
       " [873.0999999999996, 860.7999999999994, 883.8999999999993, 862.1999999999994],\n",
       " [877.1999999999996, 864.7999999999994, 886.8999999999993, 868.3999999999994],\n",
       " [883.2999999999996, 866.7999999999994, 887.9999999999993, 877.3999999999994],\n",
       " [887.3999999999996, 868.9999999999994, 892.1999999999994, 883.3999999999994],\n",
       " [890.4999999999997, 872.9999999999994, 900.3999999999994, 889.4999999999994],\n",
       " [893.4999999999997, 878.2999999999994, 907.4999999999994, 895.4999999999994],\n",
       " [897.6999999999997, 881.3999999999994, 912.5999999999995, 898.5999999999995],\n",
       " [902.6999999999997, 888.5999999999995, 916.5999999999995, 907.8999999999995],\n",
       " [906.6999999999997, 889.6999999999995, 920.6999999999995, 908.9999999999995],\n",
       " [914.7999999999997, 896.7999999999995, 921.7999999999995, 913.1999999999996],\n",
       " [916.9999999999998, 908.0999999999996, 922.8999999999995, 923.1999999999996],\n",
       " [925.1999999999997, 915.2999999999996, 927.0999999999995, 925.2999999999996],\n",
       " [928.1999999999997, 917.4999999999997, 930.1999999999995, 930.3999999999996],\n",
       " [930.3999999999997, 921.6999999999996, 932.3999999999995, 931.4999999999997],\n",
       " [933.4999999999998, 926.7999999999996, 934.5999999999996, 933.4999999999997],\n",
       " [936.4999999999998, 927.8999999999996, 937.6999999999996, 939.6999999999996],\n",
       " [942.6999999999998, 930.9999999999997, 942.0999999999997, 942.7999999999996],\n",
       " [944.6999999999998, 934.0999999999997, 943.1999999999997, 944.7999999999996],\n",
       " [944.6999999999998, 936.0999999999997, 945.3999999999997, 944.7999999999996],\n",
       " [947.6999999999998, 938.0999999999997, 948.4999999999998, 946.9999999999997],\n",
       " [950.7999999999998, 941.0999999999997, 949.5999999999998, 950.0999999999997],\n",
       " [952.7999999999998, 942.0999999999997, 952.6999999999998, 950.0999999999997],\n",
       " [957.7999999999998, 945.1999999999997, 961.7999999999998, 953.1999999999997],\n",
       " [960.8999999999999, 948.4999999999998, 965.9999999999999, 955.3999999999997],\n",
       " [960.8999999999999, 953.5999999999998, 967.0999999999999, 959.3999999999997],\n",
       " [960.8999999999999, 955.7999999999998, 967.0999999999999, 961.3999999999997],\n",
       " [962.9999999999999, 959.7999999999998, 972.1999999999999, 961.3999999999997],\n",
       " [966.9999999999999, 964.9999999999999, 972.1999999999999, 961.3999999999997],\n",
       " [967.9999999999999, 966.9999999999999, 974.1999999999999, 962.3999999999997],\n",
       " [971.9999999999999, 969.1999999999998, 974.1999999999999, 967.4999999999998],\n",
       " [972.9999999999999, 970.2999999999998, 977.3, 968.5999999999998],\n",
       " [974.9999999999999, 970.2999999999998, 979.3, 969.5999999999998],\n",
       " [976.0999999999999, 972.2999999999998, 979.3, 975.0999999999999],\n",
       " [978.0999999999999, 973.3999999999999, 979.3, 976.0999999999999],\n",
       " [984.1999999999999, 974.4999999999999, 980.4, 976.0999999999999],\n",
       " [986.4, 974.4999999999999, 980.4, 979.1999999999999],\n",
       " [987.5, 975.6, 980.4, 979.1999999999999],\n",
       " [988.6, 975.6, 981.4, 979.1999999999999],\n",
       " [988.6, 975.6, 982.5, 980.3],\n",
       " [988.6, 976.6, 983.5999999999999, 980.3],\n",
       " [988.6, 977.7, 983.5999999999999, 980.3],\n",
       " [988.6, 977.7, 985.5999999999999, 981.4],\n",
       " [988.6, 978.7, 985.5999999999999, 981.4],\n",
       " [989.6, 980.7, 986.6999999999999, 981.4],\n",
       " [989.6, 981.8, 986.6999999999999, 982.5],\n",
       " [990.6, 981.8, 987.8, 982.5],\n",
       " [990.6, 983.8, 988.9, 982.5],\n",
       " [992.6999999999999, 983.8, 988.9, 983.6],\n",
       " [992.6999999999999, 983.8, 988.9, 985.6],\n",
       " [992.6999999999999, 983.8, 990.9, 985.6],\n",
       " [993.8, 983.8, 994, 990.7],\n",
       " [993.8, 984.8, 994, 990.7],\n",
       " [993.8, 986.8, 994, 990.7],\n",
       " [993.8, 988.8, 994, 991.8],\n",
       " [993.8, 988.8, 994, 991.8],\n",
       " [993.8, 988.8, 994, 991.8],\n",
       " [993.8, 988.8, 994, 991.8],\n",
       " [993.8, 988.8, 994, 991.8],\n",
       " [993.8, 988.8, 996, 991.8],\n",
       " [993.8, 988.8, 996, 993.9],\n",
       " [993.8, 988.8, 996, 993.9]]"
      ]
     },
     "execution_count": 49,
     "metadata": {},
     "output_type": "execute_result"
    }
   ],
   "source": [
    "list_of_rewards2"
   ]
  },
  {
   "cell_type": "code",
   "execution_count": 50,
   "id": "prime-victorian",
   "metadata": {},
   "outputs": [
    {
     "name": "stdout",
     "output_type": "stream",
     "text": [
      "Location of Agent 1 at the last episode and the last step: (6, 19)\n",
      "Location of Agent 2 at the last episode and the last step: (11, 7)\n",
      "Location of Agent 3 at the last episode and the last step: (4, 4)\n",
      "Location of Agent 4 at the last episode and the last step: (4, 6)\n"
     ]
    }
   ],
   "source": [
    "loc_agent(environment)"
   ]
  },
  {
   "cell_type": "markdown",
   "id": "effective-nicholas",
   "metadata": {},
   "source": [
    "###### You can see the behaviours of agents and the dynamics of the environment over the FIRST episode in the below animation."
   ]
  },
  {
   "cell_type": "code",
   "execution_count": 51,
   "id": "indonesian-princess",
   "metadata": {},
   "outputs": [
    {
     "ename": "SystemExit",
     "evalue": "",
     "output_type": "error",
     "traceback": [
      "An exception has occurred, use %tb to see the full traceback.\n",
      "\u001b[1;31mSystemExit\u001b[0m\n"
     ]
    },
    {
     "name": "stderr",
     "output_type": "stream",
     "text": [
      "c:\\users\\saberi\\appdata\\local\\programs\\python\\python39\\lib\\site-packages\\IPython\\core\\interactiveshell.py:3435: UserWarning: To exit: use 'exit', 'quit', or Ctrl-D.\n",
      "  warn(\"To exit: use 'exit', 'quit', or Ctrl-D.\", stacklevel=1)\n"
     ]
    }
   ],
   "source": [
    "animate_env(1,1000,0.3,2)"
   ]
  },
  {
   "cell_type": "markdown",
   "id": "herbal-calculator",
   "metadata": {},
   "source": [
    "###### You can see the behaviours of agents and the dynamics of the environment over the 20th episode in the below animation."
   ]
  },
  {
   "cell_type": "code",
   "execution_count": 52,
   "id": "charged-hearing",
   "metadata": {},
   "outputs": [
    {
     "ename": "SystemExit",
     "evalue": "",
     "output_type": "error",
     "traceback": [
      "An exception has occurred, use %tb to see the full traceback.\n",
      "\u001b[1;31mSystemExit\u001b[0m\n"
     ]
    }
   ],
   "source": [
    "animate_env(21,1000,0.3,2)"
   ]
  },
  {
   "cell_type": "markdown",
   "id": "owned-float",
   "metadata": {},
   "source": [
    "###### You can see the behaviours of agents and the dynamics of the environment over the FIRST episode in the below animation."
   ]
  },
  {
   "cell_type": "code",
   "execution_count": 53,
   "id": "spatial-conversion",
   "metadata": {},
   "outputs": [
    {
     "ename": "SystemExit",
     "evalue": "",
     "output_type": "error",
     "traceback": [
      "An exception has occurred, use %tb to see the full traceback.\n",
      "\u001b[1;31mSystemExit\u001b[0m\n"
     ]
    }
   ],
   "source": [
    "animate_env(100,1000,0.3,2)"
   ]
  },
  {
   "cell_type": "code",
   "execution_count": 54,
   "id": "public-paint",
   "metadata": {},
   "outputs": [
    {
     "data": {
      "image/png": "[encoded data removed]",
      "text/plain": [
       "<Figure size 864x432 with 1 Axes>"
      ]
     },
     "metadata": {
      "needs_background": "light"
     },
     "output_type": "display_data"
    }
   ],
   "source": [
    "plot_av_reward(list_of_rewards2,100)"
   ]
  },
  {
   "cell_type": "code",
   "execution_count": 55,
   "id": "informal-danger",
   "metadata": {},
   "outputs": [
    {
     "data": {
      "image/png": "[encoded data removed]",
      "text/plain": [
       "<Figure size 864x432 with 1 Axes>"
      ]
     },
     "metadata": {
      "needs_background": "light"
     },
     "output_type": "display_data"
    }
   ],
   "source": [
    "plot_each_agent_reward(list_of_rewards2,100)"
   ]
  },
  {
   "cell_type": "markdown",
   "id": "imperial-scoop",
   "metadata": {},
   "source": [
    "____"
   ]
  },
  {
   "cell_type": "markdown",
   "id": "common-venice",
   "metadata": {},
   "source": [
    "# Third Setting:\n",
    "### learning rate: 0.9\n",
    "### discount factor: 0.8\n",
    "### epsilon: 0.3\n",
    "### number of episodes: 100\n",
    "### number of steps in each episdoe: 1000\n"
   ]
  },
  {
   "cell_type": "code",
   "execution_count": 56,
   "id": "split-houston",
   "metadata": {},
   "outputs": [],
   "source": [
    "environment=gridenv()\n",
    "\n",
    "agent1 = Qlearner_agent(environment, step_size=0.9, discount_factor=0.8,exploration_rate=0.3)\n",
    "agent2 = Qlearner_agent(environment, step_size=0.9, discount_factor=0.8,exploration_rate=0.3)\n",
    "agent3 = Qlearner_agent(environment, step_size=0.9, discount_factor=0.8,exploration_rate=0.3)\n",
    "agent4 = Qlearner_agent(environment, step_size=0.9, discount_factor=0.8,exploration_rate=0.3)\n",
    "\n",
    "list_of_rewards3=train(100,1000, environment, agent1, agent2 ,agent3 ,agent4,3)"
   ]
  },
  {
   "cell_type": "markdown",
   "id": "civic-findings",
   "metadata": {},
   "source": [
    "Let's take a look into the rewards of agents at each episode"
   ]
  },
  {
   "cell_type": "code",
   "execution_count": 57,
   "id": "educated-brazil",
   "metadata": {},
   "outputs": [
    {
     "data": {
      "text/plain": [
       "[[68.70000000000014, 251.5, 137.39999999999998, 11.899999999999952],\n",
       " [396.199999999999, 506.5999999999991, 624.3999999999993, 323.4999999999999],\n",
       " [489.999999999999, 568.3999999999992, 632.9999999999992, 572.7999999999992],\n",
       " [204.7000000000012, 532.1999999999995, 567.2999999999986, 392.0999999999981],\n",
       " [375.0000000000003, 574.7999999999992, 607.1999999999988, 313.79999999999745],\n",
       " [584.2999999999992, 637.7999999999993, 609.3999999999993, 515.8999999999987],\n",
       " [591.5999999999992, 635.8999999999992, 626.8999999999993, 553.0999999999992],\n",
       " [614.6999999999991, 673.7999999999989, 599.0999999999993, 559.0999999999991],\n",
       " [619.7999999999992, 678.199999999999, 650.3999999999992, 583.0999999999991],\n",
       " [620.8999999999992, 686.199999999999, 634.8999999999993, 571.2999999999992],\n",
       " [625.0999999999991, 693.3999999999991, 647.6999999999992, 604.4999999999991],\n",
       " [631.1999999999991, 697.3999999999991, 654.7999999999993, 606.5999999999991],\n",
       " [634.299999999999, 703.499999999999, 658.0999999999992, 611.8999999999992],\n",
       " [649.4999999999992, 706.599999999999, 659.0999999999992, 615.1999999999991],\n",
       " [636.4999999999991, 710.599999999999, 662.1999999999992, 621.299999999999],\n",
       " [657.8999999999993, 714.799999999999, 663.1999999999992, 624.4999999999991],\n",
       " [663.3999999999992, 718.999999999999, 666.3999999999992, 629.599999999999],\n",
       " [662.8999999999993, 724.9999999999991, 673.5999999999992, 644.699999999999],\n",
       " [675.3999999999992, 730.099999999999, 673.5999999999992, 657.799999999999],\n",
       " [674.8999999999992, 735.199999999999, 681.9999999999992, 663.099999999999],\n",
       " [679.8999999999992, 735.199999999999, 686.1999999999992, 677.6999999999991],\n",
       " [687.8999999999992, 740.4999999999991, 692.4999999999993, 681.8999999999992],\n",
       " [695.4999999999992, 743.4999999999991, 699.5999999999993, 688.2999999999992],\n",
       " [700.1999999999992, 751.699999999999, 704.6999999999994, 696.5999999999992],\n",
       " [713.8999999999993, 756.699999999999, 715.9999999999994, 707.7999999999992],\n",
       " [702.7999999999993, 759.8999999999991, 719.0999999999993, 721.1999999999991],\n",
       " [707.7999999999993, 766.9999999999991, 721.1999999999994, 721.1999999999991],\n",
       " [712.9999999999993, 773.1999999999991, 722.2999999999994, 726.2999999999992],\n",
       " [742.7999999999994, 775.1999999999991, 725.3999999999994, 731.2999999999992],\n",
       " [741.0999999999993, 778.1999999999991, 730.5999999999995, 736.4999999999992],\n",
       " [733.4999999999992, 782.2999999999992, 738.9999999999994, 744.8999999999992],\n",
       " [738.2999999999992, 787.4999999999992, 754.5999999999989, 750.9999999999992],\n",
       " [747.3999999999992, 797.1999999999992, 760.999999999999, 761.4999999999992],\n",
       " [751.3999999999992, 801.3999999999993, 766.0999999999989, 767.4999999999992],\n",
       " [761.7999999999993, 806.6999999999992, 772.499999999999, 772.8999999999993],\n",
       " [767.7999999999993, 813.8999999999992, 789.899999999999, 776.1999999999992],\n",
       " [776.9999999999992, 815.9999999999992, 796.0999999999989, 782.3999999999993],\n",
       " [785.1999999999992, 821.9999999999992, 805.399999999999, 802.0999999999992],\n",
       " [807.2999999999994, 830.0999999999992, 810.499999999999, 805.1999999999992],\n",
       " [794.7999999999993, 833.1999999999992, 820.699999999999, 817.7999999999994],\n",
       " [826.8999999999995, 835.3999999999993, 823.799999999999, 825.2999999999994],\n",
       " [810.1999999999992, 837.4999999999993, 829.9999999999991, 836.4999999999994],\n",
       " [833.1999999999995, 843.7999999999994, 838.1999999999991, 840.6999999999995],\n",
       " [828.3999999999995, 855.0999999999993, 843.4999999999991, 849.7999999999994],\n",
       " [828.1999999999994, 859.1999999999994, 851.5999999999991, 855.9999999999994],\n",
       " [833.9999999999994, 867.4999999999994, 856.8999999999992, 862.0999999999995],\n",
       " [857.7999999999996, 869.4999999999994, 866.1999999999992, 866.2999999999995],\n",
       " [859.9999999999995, 874.6999999999995, 877.6999999999992, 868.4999999999995],\n",
       " [856.5999999999996, 878.6999999999995, 881.8999999999993, 876.6999999999996],\n",
       " [877.9999999999997, 881.7999999999995, 884.8999999999993, 880.8999999999995],\n",
       " [883.2999999999996, 883.7999999999995, 889.9999999999993, 891.9999999999995],\n",
       " [883.0999999999996, 887.9999999999995, 897.2999999999994, 896.9999999999995],\n",
       " [892.2999999999996, 894.0999999999996, 906.4999999999994, 900.0999999999996],\n",
       " [893.4999999999997, 898.0999999999996, 907.4999999999994, 907.1999999999996],\n",
       " [903.5999999999997, 905.2999999999996, 916.5999999999995, 912.4999999999997],\n",
       " [903.5999999999997, 906.3999999999996, 920.6999999999995, 913.4999999999997],\n",
       " [915.6999999999997, 911.4999999999995, 921.7999999999995, 917.6999999999997],\n",
       " [917.9999999999997, 925.8999999999996, 923.9999999999994, 919.6999999999997],\n",
       " [926.0999999999997, 928.9999999999997, 929.0999999999995, 924.8999999999997],\n",
       " [927.1999999999997, 933.0999999999997, 931.2999999999995, 927.9999999999998],\n",
       " [931.3999999999997, 935.2999999999997, 934.5999999999996, 931.9999999999998],\n",
       " [934.3999999999997, 938.3999999999997, 937.6999999999996, 936.0999999999997],\n",
       " [940.5999999999998, 939.4999999999998, 943.1999999999997, 939.0999999999997],\n",
       " [942.5999999999998, 943.5999999999998, 943.1999999999997, 943.0999999999997],\n",
       " [943.5999999999998, 944.5999999999998, 946.3999999999997, 945.1999999999998],\n",
       " [946.7999999999998, 946.5999999999998, 948.4999999999998, 945.1999999999998],\n",
       " [949.7999999999998, 950.5999999999998, 952.6999999999998, 946.2999999999997],\n",
       " [955.7999999999998, 951.6999999999998, 957.7999999999998, 947.3999999999997],\n",
       " [960.8999999999999, 956.8999999999999, 963.9999999999999, 948.4999999999998],\n",
       " [960.8999999999999, 959.8999999999999, 967.0999999999999, 951.5999999999998],\n",
       " [960.8999999999999, 961.9999999999999, 967.0999999999999, 953.5999999999998],\n",
       " [962.9999999999999, 965.9999999999999, 972.1999999999999, 955.5999999999998],\n",
       " [966.9999999999999, 969.1999999999999, 972.1999999999999, 955.5999999999998],\n",
       " [969.9999999999999, 971.1999999999999, 974.1999999999999, 956.6999999999998],\n",
       " [971.9999999999999, 974.2999999999998, 977.3, 959.8],\n",
       " [972.9999999999999, 974.2999999999998, 977.3, 962.8],\n",
       " [976.0999999999999, 976.2999999999998, 979.3, 969.3],\n",
       " [978.0999999999999, 976.2999999999998, 979.3, 969.3],\n",
       " [984.1999999999999, 978.4999999999999, 979.3, 972.4],\n",
       " [986.4, 978.4999999999999, 980.4, 973.5],\n",
       " [987.5, 979.6, 980.4, 975.5],\n",
       " [988.6, 979.6, 980.4, 977.5],\n",
       " [988.6, 979.6, 982.5, 978.5],\n",
       " [988.6, 980.6, 983.5999999999999, 978.5],\n",
       " [988.6, 981.7, 985.5999999999999, 978.5],\n",
       " [988.6, 981.7, 985.5999999999999, 979.6],\n",
       " [988.6, 982.7, 985.5999999999999, 979.6],\n",
       " [989.6, 984.7, 986.6999999999999, 979.6],\n",
       " [989.6, 985.8, 987.8, 980.7],\n",
       " [990.6, 985.8, 987.8, 980.7],\n",
       " [992.6999999999999, 985.8, 988.9, 980.7],\n",
       " [992.6999999999999, 985.8, 988.9, 983.7],\n",
       " [992.6999999999999, 985.8, 988.9, 983.7],\n",
       " [993.8, 985.8, 992.9, 988.8],\n",
       " [993.8, 986.8, 994, 988.8],\n",
       " [993.8, 988.8, 994, 988.8],\n",
       " [993.8, 988.8, 994, 989.8],\n",
       " [993.8, 988.8, 994, 989.8],\n",
       " [993.8, 988.8, 994, 991.8],\n",
       " [993.8, 988.8, 994, 991.8]]"
      ]
     },
     "execution_count": 57,
     "metadata": {},
     "output_type": "execute_result"
    }
   ],
   "source": [
    "list_of_rewards3"
   ]
  },
  {
   "cell_type": "code",
   "execution_count": 58,
   "id": "certified-ancient",
   "metadata": {},
   "outputs": [
    {
     "name": "stdout",
     "output_type": "stream",
     "text": [
      "Location of Agent 1 at the last episode and the last step: (6, 19)\n",
      "Location of Agent 2 at the last episode and the last step: (12, 8)\n",
      "Location of Agent 3 at the last episode and the last step: (4, 4)\n",
      "Location of Agent 4 at the last episode and the last step: (3, 5)\n"
     ]
    }
   ],
   "source": [
    "loc_agent(environment)"
   ]
  },
  {
   "cell_type": "markdown",
   "id": "informational-candy",
   "metadata": {},
   "source": [
    "###### You can see the behaviours of agents and the dynamics of the environment over the FIRST episode in the below animation."
   ]
  },
  {
   "cell_type": "code",
   "execution_count": 59,
   "id": "broke-distribution",
   "metadata": {},
   "outputs": [
    {
     "ename": "SystemExit",
     "evalue": "",
     "output_type": "error",
     "traceback": [
      "An exception has occurred, use %tb to see the full traceback.\n",
      "\u001b[1;31mSystemExit\u001b[0m\n"
     ]
    },
    {
     "name": "stderr",
     "output_type": "stream",
     "text": [
      "c:\\users\\saberi\\appdata\\local\\programs\\python\\python39\\lib\\site-packages\\IPython\\core\\interactiveshell.py:3435: UserWarning: To exit: use 'exit', 'quit', or Ctrl-D.\n",
      "  warn(\"To exit: use 'exit', 'quit', or Ctrl-D.\", stacklevel=1)\n"
     ]
    }
   ],
   "source": [
    "animate_env(1,1000,0.3,3)"
   ]
  },
  {
   "cell_type": "markdown",
   "id": "limiting-sperm",
   "metadata": {},
   "source": [
    "###### You can see the behaviours of agents and the dynamics of the environment over the 20th episode in the below animation."
   ]
  },
  {
   "cell_type": "code",
   "execution_count": 60,
   "id": "roman-elder",
   "metadata": {},
   "outputs": [
    {
     "ename": "SystemExit",
     "evalue": "",
     "output_type": "error",
     "traceback": [
      "An exception has occurred, use %tb to see the full traceback.\n",
      "\u001b[1;31mSystemExit\u001b[0m\n"
     ]
    }
   ],
   "source": [
    "animate_env(21,1000,0.3,3)"
   ]
  },
  {
   "cell_type": "markdown",
   "id": "stable-organizer",
   "metadata": {},
   "source": [
    "###### You can see the behaviours of agents and the dynamics of the environment over the  episode in the below animation."
   ]
  },
  {
   "cell_type": "code",
   "execution_count": 61,
   "id": "blocked-fusion",
   "metadata": {},
   "outputs": [
    {
     "ename": "SystemExit",
     "evalue": "",
     "output_type": "error",
     "traceback": [
      "An exception has occurred, use %tb to see the full traceback.\n",
      "\u001b[1;31mSystemExit\u001b[0m\n"
     ]
    }
   ],
   "source": [
    "animate_env(100,1000,0.3,3)"
   ]
  },
  {
   "cell_type": "code",
   "execution_count": 62,
   "id": "meaning-intensity",
   "metadata": {
    "scrolled": false
   },
   "outputs": [
    {
     "data": {
      "image/png": "[encoded data removed]",
      "text/plain": [
       "<Figure size 864x432 with 1 Axes>"
      ]
     },
     "metadata": {
      "needs_background": "light"
     },
     "output_type": "display_data"
    }
   ],
   "source": [
    "plot_av_reward(list_of_rewards3,100)"
   ]
  },
  {
   "cell_type": "code",
   "execution_count": 63,
   "id": "pointed-honey",
   "metadata": {},
   "outputs": [
    {
     "data": {
      "image/png": "[encoded data removed]",
      "text/plain": [
       "<Figure size 864x432 with 1 Axes>"
      ]
     },
     "metadata": {
      "needs_background": "light"
     },
     "output_type": "display_data"
    }
   ],
   "source": [
    "plot_each_agent_reward(list_of_rewards3,100)"
   ]
  },
  {
   "cell_type": "markdown",
   "id": "accepted-touch",
   "metadata": {},
   "source": [
    "______"
   ]
  },
  {
   "cell_type": "markdown",
   "id": "foreign-minister",
   "metadata": {},
   "source": [
    "# Forth Setting:\n",
    "### learning rate: 0.5\n",
    "### discount factor: 0.99\n",
    "### epsilon: 0.1\n",
    "### number of episodes: 100\n",
    "### number of steps in each episdoe: 1000\n"
   ]
  },
  {
   "cell_type": "code",
   "execution_count": 22,
   "id": "minimal-nylon",
   "metadata": {},
   "outputs": [],
   "source": [
    "environment=gridenv()\n",
    "\n",
    "agent1 = Qlearner_agent(environment, step_size=0.5, discount_factor=0.99,exploration_rate=0.1)\n",
    "agent2 = Qlearner_agent(environment, step_size=0.5, discount_factor=0.99,exploration_rate=0.1)\n",
    "agent3 = Qlearner_agent(environment, step_size=0.5, discount_factor=0.99,exploration_rate=0.1)\n",
    "agent4 = Qlearner_agent(environment, step_size=0.5, discount_factor=0.99,exploration_rate=0.1)\n",
    "\n",
    "list_of_rewards4=train(100,1000, environment, agent1, agent2 ,agent3 ,agent4,4)"
   ]
  },
  {
   "cell_type": "markdown",
   "id": "remarkable-syndicate",
   "metadata": {},
   "source": [
    "Let's take a look into the rewards of agents at each episode"
   ]
  },
  {
   "cell_type": "code",
   "execution_count": 23,
   "id": "loved-compensation",
   "metadata": {},
   "outputs": [
    {
     "data": {
      "text/plain": [
       "[[544.6999999999983, 200.00000000000014, 793.0999999999997, 795.4999999999997],\n",
       " [731.2999999999996, 833.2999999999993, 838.5999999999992, 552.5999999999998],\n",
       " [372.4999999999981, 552.9999999999997, 867.0999999999993, -62.70000000000018],\n",
       " [852.2999999999995, 838.0999999999991, 790.0999999999996, 561.0999999999998],\n",
       " [850.3999999999995, 833.3999999999992, 858.1999999999994, 844.2999999999995],\n",
       " [849.2999999999995, 835.3999999999992, 859.2999999999994, 845.2999999999995],\n",
       " [850.3999999999995, 844.8999999999992, 863.2999999999994, 846.3999999999995],\n",
       " [850.3999999999995, 844.8999999999992, 864.2999999999994, 846.3999999999995],\n",
       " [852.3999999999995, 844.8999999999992, 866.4999999999994, 850.4999999999995],\n",
       " [854.3999999999995, 846.8999999999992, 866.4999999999994, 850.4999999999995],\n",
       " [854.3999999999995, 847.9999999999992, 866.4999999999994, 854.4999999999995],\n",
       " [856.3999999999995, 851.0999999999992, 868.6999999999995, 856.4999999999995],\n",
       " [856.3999999999995, 851.0999999999992, 868.6999999999995, 858.6999999999996],\n",
       " [860.3999999999995, 852.1999999999992, 870.6999999999995, 859.7999999999995],\n",
       " [863.3999999999995, 856.1999999999992, 870.6999999999995, 862.8999999999995],\n",
       " [865.3999999999995, 858.1999999999992, 871.7999999999995, 862.8999999999995],\n",
       " [866.4999999999995, 860.1999999999992, 871.7999999999995, 865.9999999999995],\n",
       " [868.4999999999995, 860.1999999999992, 873.7999999999995, 873.9999999999995],\n",
       " [876.6999999999996, 860.1999999999992, 876.8999999999994, 875.9999999999995],\n",
       " [877.7999999999996, 860.1999999999992, 879.9999999999995, 877.9999999999995],\n",
       " [880.7999999999996, 862.3999999999993, 880.9999999999995, 879.9999999999995],\n",
       " [882.7999999999996, 866.3999999999993, 885.0999999999995, 880.9999999999995],\n",
       " [885.8999999999996, 868.3999999999993, 887.0999999999995, 884.0999999999996],\n",
       " [888.9999999999997, 873.4999999999992, 890.1999999999995, 884.0999999999996],\n",
       " [888.9999999999997, 875.5999999999992, 896.3999999999995, 890.0999999999996],\n",
       " [890.0999999999997, 876.6999999999992, 896.3999999999995, 892.0999999999996],\n",
       " [894.1999999999997, 883.3999999999994, 899.4999999999995, 894.2999999999996],\n",
       " [896.2999999999996, 886.5999999999995, 903.4999999999995, 896.4999999999997],\n",
       " [896.2999999999996, 888.5999999999995, 905.4999999999995, 898.4999999999997],\n",
       " [900.2999999999996, 889.6999999999995, 909.5999999999996, 899.4999999999997],\n",
       " [908.4999999999997, 894.7999999999995, 912.6999999999996, 899.4999999999997],\n",
       " [908.4999999999997, 896.7999999999995, 914.6999999999996, 905.6999999999997],\n",
       " [911.5999999999997, 908.0999999999996, 915.6999999999996, 909.6999999999997],\n",
       " [915.7999999999997, 913.2999999999996, 916.6999999999996, 909.6999999999997],\n",
       " [921.9999999999998, 916.3999999999995, 919.6999999999996, 911.8999999999997],\n",
       " [923.9999999999998, 917.4999999999997, 920.7999999999996, 918.8999999999997],\n",
       " [925.0999999999997, 919.4999999999997, 921.7999999999996, 918.8999999999997],\n",
       " [928.1999999999997, 921.6999999999996, 922.8999999999996, 921.9999999999998],\n",
       " [931.2999999999997, 926.7999999999996, 924.9999999999997, 923.9999999999998],\n",
       " [933.2999999999997, 927.8999999999996, 927.1999999999997, 926.0999999999997],\n",
       " [938.3999999999997, 929.8999999999996, 935.3999999999997, 930.0999999999997],\n",
       " [939.4999999999998, 930.9999999999997, 937.4999999999998, 933.0999999999997],\n",
       " [941.4999999999998, 934.0999999999997, 937.4999999999998, 937.0999999999997],\n",
       " [941.4999999999998, 936.0999999999997, 938.5999999999997, 937.0999999999997],\n",
       " [941.4999999999998, 936.0999999999997, 943.7999999999998, 939.1999999999998],\n",
       " [944.5999999999998, 938.0999999999997, 946.8999999999999, 939.1999999999998],\n",
       " [945.6999999999998, 941.0999999999997, 947.8999999999999, 940.2999999999997],\n",
       " [949.6999999999998, 942.0999999999997, 952.9999999999999, 940.2999999999997],\n",
       " [955.6999999999998, 943.1999999999997, 955.9999999999999, 941.3999999999997],\n",
       " [960.6999999999998, 947.3999999999997, 960.0999999999999, 942.4999999999998],\n",
       " [961.7999999999998, 948.4999999999998, 960.0999999999999, 947.5999999999998],\n",
       " [961.7999999999998, 953.5999999999998, 963.1999999999998, 947.5999999999998],\n",
       " [961.7999999999998, 955.7999999999998, 963.1999999999998, 949.5999999999998],\n",
       " [961.7999999999998, 957.7999999999998, 966.3, 951.5999999999998],\n",
       " [964.8999999999999, 962.8999999999999, 970.3, 951.5999999999998],\n",
       " [966.8999999999999, 964.9999999999999, 970.3, 951.5999999999998],\n",
       " [966.8999999999999, 966.9999999999999, 972.3, 952.6999999999998],\n",
       " [970.8999999999999, 969.1999999999998, 972.3, 957.8],\n",
       " [970.8999999999999, 970.2999999999998, 975.3, 960.8],\n",
       " [970.8999999999999, 970.2999999999998, 975.3, 961.8999999999999],\n",
       " [975.9999999999999, 972.2999999999998, 977.3, 967.3],\n",
       " [975.9999999999999, 972.2999999999998, 977.3, 967.3],\n",
       " [979.0999999999999, 973.3999999999999, 979.3, 968.4],\n",
       " [987.2999999999998, 974.4999999999999, 980.4, 970.4],\n",
       " [988.4, 974.4999999999999, 980.4, 973.5],\n",
       " [989.5, 975.6, 980.4, 975.5],\n",
       " [990.6, 975.6, 980.4, 975.5],\n",
       " [990.6, 975.6, 982.6, 976.5],\n",
       " [990.6, 975.6, 982.6, 976.5],\n",
       " [990.6, 976.6, 983.6999999999999, 976.5],\n",
       " [990.6, 977.7, 985.6999999999999, 977.6],\n",
       " [990.6, 977.7, 985.6999999999999, 977.6],\n",
       " [992.6, 978.7, 985.6999999999999, 977.6],\n",
       " [992.6, 980.7, 986.8, 977.6],\n",
       " [992.6, 981.8, 988.8, 978.7],\n",
       " [992.6, 981.8, 989.8, 978.7],\n",
       " [992.6, 981.8, 989.8, 978.7],\n",
       " [993.6999999999999, 983.8, 990.9, 978.7],\n",
       " [993.6999999999999, 983.8, 990.9, 979.7],\n",
       " [993.6999999999999, 983.8, 990.9, 981.7],\n",
       " [994.8, 983.8, 990.9, 983.7],\n",
       " [994.8, 983.8, 994, 988.8],\n",
       " [994.8, 984.8, 994, 988.8],\n",
       " [994.8, 986.8, 994, 988.8],\n",
       " [994.8, 988.8, 994, 989.8],\n",
       " [994.8, 988.8, 994, 989.8],\n",
       " [994.8, 988.8, 994, 991.8],\n",
       " [994.8, 988.8, 994, 991.8],\n",
       " [994.8, 988.8, 994, 991.8],\n",
       " [994.8, 988.8, 996, 991.8],\n",
       " [994.8, 988.8, 996, 992.9],\n",
       " [994.8, 988.8, 996, 994],\n",
       " [994.8, 988.8, 996, 994],\n",
       " [994.8, 989.9, 996, 994],\n",
       " [994.8, 989.9, 996, 995],\n",
       " [994.8, 989.9, 996, 995],\n",
       " [995.9, 989.9, 996, 995],\n",
       " [997, 989.9, 996, 995],\n",
       " [997, 989.9, 996, 995],\n",
       " [997, 991, 996, 995]]"
      ]
     },
     "execution_count": 23,
     "metadata": {},
     "output_type": "execute_result"
    }
   ],
   "source": [
    "list_of_rewards4"
   ]
  },
  {
   "cell_type": "code",
   "execution_count": 25,
   "id": "greenhouse-infection",
   "metadata": {},
   "outputs": [
    {
     "name": "stdout",
     "output_type": "stream",
     "text": [
      "Location of Agent 1 at the last episode and the last step: (5, 18)\n",
      "Location of Agent 2 at the last episode and the last step: (11, 7)\n",
      "Location of Agent 3 at the last episode and the last step: (5, 5)\n",
      "Location of Agent 4 at the last episode and the last step: (3, 5)\n"
     ]
    }
   ],
   "source": [
    "loc_agent(environment)"
   ]
  },
  {
   "cell_type": "markdown",
   "id": "joint-light",
   "metadata": {},
   "source": [
    "###### You can see the behaviours of agents and the dynamics of the environment over the FIRST episode in the below animation."
   ]
  },
  {
   "cell_type": "code",
   "execution_count": 26,
   "id": "clean-tutorial",
   "metadata": {
    "scrolled": true
   },
   "outputs": [
    {
     "ename": "SystemExit",
     "evalue": "",
     "output_type": "error",
     "traceback": [
      "An exception has occurred, use %tb to see the full traceback.\n",
      "\u001b[1;31mSystemExit\u001b[0m\n"
     ]
    },
    {
     "name": "stderr",
     "output_type": "stream",
     "text": [
      "c:\\users\\saberi\\appdata\\local\\programs\\python\\python39\\lib\\site-packages\\IPython\\core\\interactiveshell.py:3435: UserWarning: To exit: use 'exit', 'quit', or Ctrl-D.\n",
      "  warn(\"To exit: use 'exit', 'quit', or Ctrl-D.\", stacklevel=1)\n"
     ]
    }
   ],
   "source": [
    "animate_env(1,1000,0.3,4)"
   ]
  },
  {
   "cell_type": "markdown",
   "id": "independent-capability",
   "metadata": {},
   "source": [
    "###### You can see the behaviours of agents and the dynamics of the environment over the 20th episode in the below animation."
   ]
  },
  {
   "cell_type": "code",
   "execution_count": 27,
   "id": "little-classics",
   "metadata": {},
   "outputs": [
    {
     "ename": "SystemExit",
     "evalue": "",
     "output_type": "error",
     "traceback": [
      "An exception has occurred, use %tb to see the full traceback.\n",
      "\u001b[1;31mSystemExit\u001b[0m\n"
     ]
    }
   ],
   "source": [
    "animate_env(21,1000,0.3,4)"
   ]
  },
  {
   "cell_type": "markdown",
   "id": "classical-gasoline",
   "metadata": {},
   "source": [
    "###### You can see the behaviours of agents and the dynamics of the environment over the LAST episode in the below animation."
   ]
  },
  {
   "cell_type": "code",
   "execution_count": 28,
   "id": "freelance-india",
   "metadata": {},
   "outputs": [
    {
     "ename": "SystemExit",
     "evalue": "",
     "output_type": "error",
     "traceback": [
      "An exception has occurred, use %tb to see the full traceback.\n",
      "\u001b[1;31mSystemExit\u001b[0m\n"
     ]
    }
   ],
   "source": [
    "animate_env(100,1000,0.3,4)"
   ]
  },
  {
   "cell_type": "code",
   "execution_count": 29,
   "id": "reduced-cover",
   "metadata": {},
   "outputs": [
    {
     "data": {
      "image/png": "[encoded data removed]",
      "text/plain": [
       "<Figure size 864x432 with 1 Axes>"
      ]
     },
     "metadata": {
      "needs_background": "light"
     },
     "output_type": "display_data"
    }
   ],
   "source": [
    "plot_av_reward(list_of_rewards4,100)"
   ]
  },
  {
   "cell_type": "code",
   "execution_count": 30,
   "id": "synthetic-cambodia",
   "metadata": {},
   "outputs": [
    {
     "data": {
      "image/png": "[encoded data removed]",
      "text/plain": [
       "<Figure size 864x432 with 1 Axes>"
      ]
     },
     "metadata": {
      "needs_background": "light"
     },
     "output_type": "display_data"
    }
   ],
   "source": [
    "plot_each_agent_reward(list_of_rewards4,100)"
   ]
  },
  {
   "cell_type": "markdown",
   "id": "hidden-beijing",
   "metadata": {},
   "source": [
    "______"
   ]
  },
  {
   "cell_type": "markdown",
   "id": "minute-consistency",
   "metadata": {},
   "source": [
    "# Fifth Setting:\n",
    "### learning rate: 0.1\n",
    "### discount factor: 0.99\n",
    "### epsilon: 0.1\n",
    "### number of episodes: 100\n",
    "### number of steps in each episdoe: 1000\n"
   ]
  },
  {
   "cell_type": "code",
   "execution_count": 31,
   "id": "happy-quantum",
   "metadata": {
    "scrolled": true
   },
   "outputs": [],
   "source": [
    "environment=gridenv()\n",
    "\n",
    "agent1 = Qlearner_agent(environment, step_size=0.1, discount_factor=0.99,exploration_rate=0.1)\n",
    "agent2 = Qlearner_agent(environment, step_size=0.1, discount_factor=0.99,exploration_rate=0.1)\n",
    "agent3 = Qlearner_agent(environment, step_size=0.1, discount_factor=0.99,exploration_rate=0.1)\n",
    "agent4 = Qlearner_agent(environment, step_size=0.1, discount_factor=0.99,exploration_rate=0.1)\n",
    "\n",
    "list_of_rewards5=train(100,1000, environment, agent1, agent2 ,agent3 ,agent4,5)"
   ]
  },
  {
   "cell_type": "markdown",
   "id": "joined-partner",
   "metadata": {},
   "source": [
    "Let's take a look into the rewards of agents at each episode"
   ]
  },
  {
   "cell_type": "code",
   "execution_count": 32,
   "id": "brown-execution",
   "metadata": {},
   "outputs": [
    {
     "data": {
      "text/plain": [
       "[[512.0999999999973, 158.60000000000005, 793.1999999999997, 806.9999999999998],\n",
       " [505.9999999999997, 109.70000000000141, 789.6999999999996, 593.6999999999986],\n",
       " [710.3999999999996, 849.5999999999995, 303.80000000000007, 904.8999999999995],\n",
       " [532.0999999999999, 755.5999999999992, 867.4999999999994, 824.0999999999995],\n",
       " [837.8999999999995, 847.3999999999995, 862.2999999999994, 836.1999999999995],\n",
       " [844.0999999999996, 841.2999999999995, 858.1999999999994, 833.1999999999996],\n",
       " [845.2999999999995, 841.5999999999996, 861.2999999999994, 840.4999999999995],\n",
       " [808.8999999999995, 849.8999999999995, 861.0999999999993, 837.4999999999995],\n",
       " [852.3999999999995, 848.8999999999995, 866.4999999999994, 842.4999999999995],\n",
       " [854.3999999999995, 848.8999999999995, 866.4999999999994, 842.4999999999995],\n",
       " [854.3999999999995, 851.9999999999995, 866.4999999999994, 844.4999999999995],\n",
       " [856.3999999999995, 855.0999999999996, 868.6999999999995, 848.4999999999995],\n",
       " [856.3999999999995, 861.0999999999996, 868.6999999999995, 850.6999999999996],\n",
       " [860.3999999999995, 866.0999999999996, 870.6999999999995, 851.7999999999995],\n",
       " [863.3999999999995, 870.0999999999996, 870.6999999999995, 856.8999999999995],\n",
       " [865.3999999999995, 870.0999999999996, 871.7999999999995, 856.8999999999995],\n",
       " [866.4999999999995, 870.0999999999996, 871.7999999999995, 859.9999999999995],\n",
       " [868.4999999999995, 870.0999999999996, 873.7999999999995, 869.9999999999995],\n",
       " [876.6999999999996, 870.0999999999996, 876.8999999999994, 871.9999999999995],\n",
       " [877.7999999999996, 870.0999999999996, 879.9999999999995, 875.9999999999995],\n",
       " [880.7999999999996, 872.1999999999996, 880.9999999999995, 877.9999999999995],\n",
       " [882.7999999999996, 874.1999999999996, 885.0999999999995, 878.9999999999995],\n",
       " [885.8999999999996, 874.1999999999996, 887.0999999999995, 884.0999999999996],\n",
       " [888.9999999999997, 879.2999999999996, 890.1999999999995, 884.0999999999996],\n",
       " [888.9999999999997, 881.4999999999995, 896.3999999999995, 890.0999999999996],\n",
       " [890.0999999999997, 882.4999999999995, 896.3999999999995, 894.0999999999996],\n",
       " [894.1999999999997, 884.4999999999995, 899.4999999999995, 896.2999999999996],\n",
       " [896.2999999999996, 889.5999999999997, 903.4999999999995, 898.4999999999997],\n",
       " [896.2999999999996, 889.5999999999997, 905.4999999999995, 902.4999999999997],\n",
       " [900.2999999999996, 890.5999999999997, 909.5999999999996, 903.4999999999997],\n",
       " [908.4999999999997, 895.5999999999997, 912.6999999999996, 903.4999999999997],\n",
       " [908.4999999999997, 897.5999999999997, 914.6999999999996, 907.6999999999997],\n",
       " [911.5999999999997, 900.5999999999997, 915.6999999999996, 909.6999999999997],\n",
       " [915.7999999999997, 907.7999999999996, 916.6999999999996, 909.6999999999997],\n",
       " [921.9999999999998, 908.8999999999996, 919.6999999999996, 911.8999999999997],\n",
       " [923.9999999999998, 909.9999999999997, 920.7999999999996, 916.8999999999997],\n",
       " [925.0999999999997, 912.1999999999997, 921.7999999999996, 916.8999999999997],\n",
       " [928.1999999999997, 914.2999999999997, 922.8999999999996, 919.9999999999998],\n",
       " [931.2999999999997, 923.2999999999997, 924.9999999999997, 923.9999999999998],\n",
       " [933.2999999999997, 924.2999999999997, 927.1999999999997, 926.0999999999997],\n",
       " [938.3999999999997, 928.2999999999997, 935.3999999999997, 928.0999999999997],\n",
       " [939.4999999999998, 929.2999999999997, 937.4999999999998, 933.0999999999997],\n",
       " [941.4999999999998, 932.3999999999997, 937.4999999999998, 937.0999999999997],\n",
       " [941.4999999999998, 934.5999999999997, 938.5999999999997, 937.0999999999997],\n",
       " [941.4999999999998, 934.5999999999997, 943.7999999999998, 939.1999999999998],\n",
       " [944.5999999999998, 934.5999999999997, 946.8999999999999, 939.1999999999998],\n",
       " [945.6999999999998, 935.6999999999997, 947.8999999999999, 940.2999999999997],\n",
       " [949.6999999999998, 936.7999999999997, 952.9999999999999, 940.2999999999997],\n",
       " [955.6999999999998, 937.7999999999997, 955.9999999999999, 941.3999999999997],\n",
       " [960.6999999999998, 939.7999999999997, 960.0999999999999, 942.4999999999998],\n",
       " [961.7999999999998, 940.8999999999999, 960.0999999999999, 945.5999999999998],\n",
       " [961.7999999999998, 945.6999999999998, 963.1999999999998, 945.5999999999998],\n",
       " [961.7999999999998, 947.8999999999999, 963.1999999999998, 949.5999999999998],\n",
       " [961.7999999999998, 947.8999999999999, 966.3, 951.5999999999998],\n",
       " [964.8999999999999, 954.9999999999998, 970.3, 951.5999999999998],\n",
       " [966.8999999999999, 957.0999999999998, 970.3, 951.5999999999998],\n",
       " [966.8999999999999, 957.0999999999998, 972.3, 952.6999999999998],\n",
       " [970.8999999999999, 959.1999999999998, 972.3, 955.8],\n",
       " [970.8999999999999, 960.2999999999998, 975.3, 958.8],\n",
       " [970.8999999999999, 964.2999999999998, 975.3, 959.8999999999999],\n",
       " [975.9999999999999, 964.2999999999998, 977.3, 965.3],\n",
       " [975.9999999999999, 964.2999999999998, 977.3, 965.3],\n",
       " [979.0999999999999, 965.2999999999998, 979.3, 966.4],\n",
       " [987.2999999999998, 966.0999999999999, 980.4, 968.4],\n",
       " [988.4, 968.0999999999999, 980.4, 973.5],\n",
       " [989.5, 971.0999999999999, 980.4, 975.5],\n",
       " [990.6, 971.0999999999999, 980.4, 975.5],\n",
       " [990.6, 971.0999999999999, 982.6, 976.5],\n",
       " [990.6, 978.9999999999999, 982.6, 976.5],\n",
       " [990.6, 980.0999999999999, 983.6999999999999, 976.5],\n",
       " [990.6, 981.1999999999999, 985.6999999999999, 977.6],\n",
       " [990.6, 981.1999999999999, 985.6999999999999, 977.6],\n",
       " [992.6, 982.3, 985.6999999999999, 977.6],\n",
       " [992.6, 984.4999999999999, 986.8, 977.6],\n",
       " [992.6, 985.5999999999999, 988.8, 978.7],\n",
       " [992.6, 985.5999999999999, 989.8, 978.7],\n",
       " [992.6, 985.5999999999999, 989.8, 978.7],\n",
       " [993.6999999999999, 985.5999999999999, 990.9, 978.7],\n",
       " [993.6999999999999, 985.5999999999999, 990.9, 979.7],\n",
       " [993.6999999999999, 985.5999999999999, 990.9, 983.7],\n",
       " [994.8, 985.5999999999999, 990.9, 985.7],\n",
       " [994.8, 985.5999999999999, 994, 988.8],\n",
       " [994.8, 986.6999999999999, 994, 988.8],\n",
       " [994.8, 988.6999999999999, 994, 988.8],\n",
       " [994.8, 988.6999999999999, 994, 989.8],\n",
       " [994.8, 988.6999999999999, 994, 989.8],\n",
       " [994.8, 988.6999999999999, 994, 991.8],\n",
       " [994.8, 988.6999999999999, 994, 991.8],\n",
       " [994.8, 988.6999999999999, 994, 991.8],\n",
       " [994.8, 988.6999999999999, 996, 991.8],\n",
       " [994.8, 988.6999999999999, 996, 992.9],\n",
       " [994.8, 988.6999999999999, 996, 994],\n",
       " [994.8, 988.6999999999999, 996, 994],\n",
       " [994.8, 989.8, 996, 994],\n",
       " [994.8, 989.8, 996, 995],\n",
       " [994.8, 989.8, 996, 995],\n",
       " [995.9, 989.8, 996, 995],\n",
       " [997, 989.8, 996, 995],\n",
       " [997, 989.8, 996, 995],\n",
       " [997, 990.9, 996, 995]]"
      ]
     },
     "execution_count": 32,
     "metadata": {},
     "output_type": "execute_result"
    }
   ],
   "source": [
    "list_of_rewards5"
   ]
  },
  {
   "cell_type": "code",
   "execution_count": 33,
   "id": "postal-keeping",
   "metadata": {},
   "outputs": [
    {
     "name": "stdout",
     "output_type": "stream",
     "text": [
      "Location of Agent 1 at the last episode and the last step: (5, 18)\n",
      "Location of Agent 2 at the last episode and the last step: (13, 9)\n",
      "Location of Agent 3 at the last episode and the last step: (5, 5)\n",
      "Location of Agent 4 at the last episode and the last step: (3, 5)\n"
     ]
    }
   ],
   "source": [
    "loc_agent(environment)"
   ]
  },
  {
   "cell_type": "markdown",
   "id": "adjacent-patch",
   "metadata": {},
   "source": [
    "###### You can see the behaviours of agents and the dynamics of the environment over the FIRST episode in the below animation."
   ]
  },
  {
   "cell_type": "code",
   "execution_count": 34,
   "id": "opponent-mixture",
   "metadata": {},
   "outputs": [
    {
     "ename": "SystemExit",
     "evalue": "",
     "output_type": "error",
     "traceback": [
      "An exception has occurred, use %tb to see the full traceback.\n",
      "\u001b[1;31mSystemExit\u001b[0m\n"
     ]
    },
    {
     "name": "stderr",
     "output_type": "stream",
     "text": [
      "c:\\users\\saberi\\appdata\\local\\programs\\python\\python39\\lib\\site-packages\\IPython\\core\\interactiveshell.py:3435: UserWarning: To exit: use 'exit', 'quit', or Ctrl-D.\n",
      "  warn(\"To exit: use 'exit', 'quit', or Ctrl-D.\", stacklevel=1)\n"
     ]
    }
   ],
   "source": [
    "animate_env(1,1000,0.3,5)"
   ]
  },
  {
   "cell_type": "markdown",
   "id": "applicable-machine",
   "metadata": {},
   "source": [
    "###### You can see the behaviours of agents and the dynamics of the environment over the 20th episode in the below animation."
   ]
  },
  {
   "cell_type": "code",
   "execution_count": 35,
   "id": "altered-affect",
   "metadata": {},
   "outputs": [
    {
     "ename": "SystemExit",
     "evalue": "",
     "output_type": "error",
     "traceback": [
      "An exception has occurred, use %tb to see the full traceback.\n",
      "\u001b[1;31mSystemExit\u001b[0m\n"
     ]
    }
   ],
   "source": [
    "animate_env(21,1000,0.3,5)"
   ]
  },
  {
   "cell_type": "markdown",
   "id": "thick-shape",
   "metadata": {},
   "source": [
    "###### You can see the behaviours of agents and the dynamics of the environment over the LAST episode in the below animation."
   ]
  },
  {
   "cell_type": "code",
   "execution_count": 36,
   "id": "cosmetic-coverage",
   "metadata": {},
   "outputs": [
    {
     "ename": "SystemExit",
     "evalue": "",
     "output_type": "error",
     "traceback": [
      "An exception has occurred, use %tb to see the full traceback.\n",
      "\u001b[1;31mSystemExit\u001b[0m\n"
     ]
    }
   ],
   "source": [
    "animate_env(100,1000,0.3,5)"
   ]
  },
  {
   "cell_type": "code",
   "execution_count": 37,
   "id": "turned-acceptance",
   "metadata": {},
   "outputs": [
    {
     "data": {
      "image/png": "[encoded data removed]",
      "text/plain": [
       "<Figure size 864x432 with 1 Axes>"
      ]
     },
     "metadata": {
      "needs_background": "light"
     },
     "output_type": "display_data"
    }
   ],
   "source": [
    "plot_av_reward(list_of_rewards5,100)"
   ]
  },
  {
   "cell_type": "code",
   "execution_count": 38,
   "id": "controlling-anchor",
   "metadata": {},
   "outputs": [
    {
     "data": {
      "image/png": "[encoded data removed]",
      "text/plain": [
       "<Figure size 864x432 with 1 Axes>"
      ]
     },
     "metadata": {
      "needs_background": "light"
     },
     "output_type": "display_data"
    }
   ],
   "source": [
    "plot_each_agent_reward(list_of_rewards5,100)"
   ]
  },
  {
   "cell_type": "markdown",
   "id": "nuclear-hartford",
   "metadata": {},
   "source": [
    "_______"
   ]
  },
  {
   "cell_type": "code",
   "execution_count": 64,
   "id": "vocal-union",
   "metadata": {},
   "outputs": [
    {
     "data": {
      "image/png": "[encoded data removed]",
      "text/plain": [
       "<Figure size 864x432 with 1 Axes>"
      ]
     },
     "metadata": {
      "needs_background": "light"
     },
     "output_type": "display_data"
    }
   ],
   "source": [
    "fig = plt.gcf()\n",
    "fig.set_size_inches(12, 6)\n",
    "plt.plot(np.mean(list_of_rewards1, axis=1), label='Average Reward of setting 1 at each episode')\n",
    "plt.plot(np.mean(list_of_rewards2, axis=1), label='Average Reward of setting 2 at each episode')\n",
    "plt.plot(np.mean(list_of_rewards3, axis=1), label='Average Reward of setting 3 at each episode')\n",
    "plt.plot(np.mean(list_of_rewards4, axis=1), label='Average Reward of setting 4 at each episode')\n",
    "plt.plot(np.mean(list_of_rewards5, axis=1), label='Average Reward of setting 5 at each episode')\n",
    "plt.xlabel(\"Episodes\")\n",
    "plt.ylabel(\"Average reward of  \\n  different settings\",rotation=0, labelpad=40)\n",
    "plt.xlim(0,100)\n",
    "plt.ylim(np.min([list_of_rewards1,list_of_rewards2,list_of_rewards3,list_of_rewards4,list_of_rewards5]),\n",
    "         np.max([list_of_rewards1,list_of_rewards2,list_of_rewards3,list_of_rewards4,list_of_rewards5])+200)\n",
    "plt.legend()\n",
    "plt.show()\n"
   ]
  },
  {
   "cell_type": "markdown",
   "id": "casual-entry",
   "metadata": {},
   "source": [
    "##### You can see the amazing result of Q-learning in the above plot. All the settings converged, even if some of the settings made the agent act suboptimally."
   ]
  }
 ],
 "metadata": {
  "kernelspec": {
   "display_name": "Python 3",
   "language": "python",
   "name": "python3"
  },
  "language_info": {
   "codemirror_mode": {
    "name": "ipython",
    "version": 3
   },
   "file_extension": ".py",
   "mimetype": "text/x-python",
   "name": "python",
   "nbconvert_exporter": "python",
   "pygments_lexer": "ipython3",
   "version": "3.9.1"
  }
 },
 "nbformat": 4,
 "nbformat_minor": 5
}
